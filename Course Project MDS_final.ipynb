{
  "cells": [
    {
      "cell_type": "markdown",
      "metadata": {
        "id": "f1gL2DEfNRGu"
      },
      "source": [
        "# Product Approach in Data Analytics, MDS\n",
        "\n",
        "## HSE, 2024-25"
      ]
    },
    {
      "cell_type": "markdown",
      "metadata": {
        "id": "fdTH3pxXFLxw"
      },
      "source": [
        "## Course Project. Exploratory Data Analysis"
      ]
    },
    {
      "cell_type": "markdown",
      "metadata": {
        "id": "kqVyveO4FLxx"
      },
      "source": [
        "## General Information"
      ]
    },
    {
      "cell_type": "markdown",
      "metadata": {
        "id": "2A0wmBWwFLxx"
      },
      "source": [
        "__Date of issue:__ 28.04.2025\n",
        "\n",
        "__Project defense:__ ~ 25.06.2025"
      ]
    },
    {
      "cell_type": "markdown",
      "metadata": {
        "id": "c3WPv6hp7hNJ"
      },
      "source": [
        "## Execution Format"
      ]
    },
    {
      "cell_type": "markdown",
      "metadata": {
        "id": "G119PlyX7hNS"
      },
      "source": [
        "The coursework project is a creative, initiative-based group assignment, carried out by students in teams of 3 to 6 people. At the same time, it should be remembered that the larger the team, the higher the overall requirements for the team and the project they perform. Teams are allowed to be formed from students of different streams.\n",
        "\n",
        "When evaluating the results of the project carried out by the team, it is mandatory to check and consider the contribution of ***each participant*** to the overall work of the team. Consequently, it is extremely important to responsibly approach the selection of teammates, the distribution of responsibilities within the team, and the prevention of \"dead weight\" in the team.\n",
        "\n",
        "If necessary, the team has the right by majority vote to exclude a person from the team *before the project defense* by informing the instructor, in case that person did not contribute during the project and was, in fact, the \"dead weight.\" Remember this possibility, as the presence of \"dead weight\" can negatively affect the quality and grade of the entire project and, consequently, the entire team!\n",
        "\n",
        "The registration of team compositions is carried out via the link in the table:\n",
        "\n",
        "https://docs.google.com/spreadsheets/d/132inC1TqG8xfan65CpmJX_O3jJR5eiDugRWZ-hdMlbc/edit?usp=sharing\n"
      ]
    },
    {
      "cell_type": "markdown",
      "metadata": {
        "id": "qK8Ari9eFLxz"
      },
      "source": [
        "## Evaluation and Penalties\n",
        "\n"
      ]
    },
    {
      "cell_type": "markdown",
      "metadata": {
        "id": "QGLPrtP8M51y"
      },
      "source": [
        "The coursework project is evaluated based on the team's oral defense (presentation) of their completed project before a committee. The committee is composed of course instructors, course assistants, and invited industry experts.\n",
        "\n",
        "Within each defense, the committee assigns two types of grades.\n",
        "\n",
        "The first grade is for the overall project. It is given by the committee based on the depth of the team's exploration of the subject area, the complexity of the tools used in the project, and other aspects related to the content of the project's terms of reference. When assigning this grade, the committee refers to the criteria detailed below in the \"Project Evaluation Criteria\" section.\n",
        "\n",
        "The second grade is the individual grade for each team member. This grade is subsequently recorded in the grade book. The individual grade for a team member is determined by the committee based on how well the member understands the completed project, how they respond to questions addressed personally to them by the committee, how their role in the project is evident, and other aspects related to the person's participation in the team's activities. The individual grade cannot exceed the team's overall project grade (the first grade). However, if the participant confidently and correctly answers all questions addressed to them, is well-versed in the material and content of the completed project, and their role in the team's work is unquestionable, then the individual grade becomes equal to the overall project grade (i.e., in an ideal case, the second grade equals the first grade).\n",
        "\n",
        "To avoid subjectivity and/or bias in the evaluation by certain committee members towards specific teams, as well as any other manifestations of unequal conditions, the distribution of teams among the committees is done completely randomly using the Numpy library :) — the random seed is the date on which the distribution is performed, for example, `np.random.seed(28042025)`.\n",
        "\n",
        "To maintain the fairness and impartiality of the random distribution, any transfers of teams between committees (committee changes) are not allowed. Student attendance at the project defense is mandatory; a student's contribution without their presence is not evaluated and automatically equals zero. Additionally, having the camera turned on throughout the entire time in the conference during the project defense is mandatory."
      ]
    },
    {
      "cell_type": "markdown",
      "metadata": {
        "id": "zNja-u8vFLx0"
      },
      "source": [
        "## Task description"
      ]
    },
    {
      "cell_type": "markdown",
      "metadata": {
        "id": "GNs6yg1QT0I3"
      },
      "source": [
        "<img src=\"https://pp.userapi.com/c854528/v854528797/c62ce/FiPEibYUxJc.jpg\" width=\"40%\">"
      ]
    },
    {
      "cell_type": "markdown",
      "metadata": {
        "id": "JYeFv80TV21w"
      },
      "source": [
        "Over the past 5-10 years, Netflix has gained a large number of viewers. With the increase in viewers, the variety of shows has also increased. Accordingly, analysts in the film industry are faced with the task of researching data with ratings of various series.\n",
        "\n",
        "In this task, you are to conduct a visual analysis of the dataset **1000 Netflix Shows** (as of 11.06.2017) and draw conclusions.\n",
        "\n"
      ]
    },
    {
      "cell_type": "markdown",
      "metadata": {
        "id": "hb-N44hz6UUQ"
      },
      "source": [
        "### Feature description"
      ]
    },
    {
      "cell_type": "markdown",
      "metadata": {
        "id": "7TCLul8ycMHW"
      },
      "source": [
        "* `title` - the title of the show.\n",
        "* `rating` - the show's rating, e.g., G, PG, TV-14, TV-MA.\n",
        "* `ratingLevel` - description of the rating group and show features.\n",
        "* `ratingDescription` - the show's rating encoded as a number.\n",
        "* `release year` - the year the show was released.\n",
        "* `user rating score` - user score.\n",
        "* `user rating size` - overall user rating."
      ]
    },
    {
      "cell_type": "markdown",
      "metadata": {
        "id": "Yf_5kM7K6XPn"
      },
      "source": [
        "### Project requirements"
      ]
    },
    {
      "cell_type": "markdown",
      "metadata": {
        "id": "coqxjUJY4D4B"
      },
      "source": [
        "As a result of completing the course project, your team should prepare a presentation and defend it before the committee.\n",
        "\n",
        "The design of the presentation is entirely up to you, but remember that the result should be relevant for demonstration to a business client — it is most appropriate to perceive the committee evaluating your work in this way. For example, it is not recommended to include lines of code or overuse notebook screenshots in the presentation.\n",
        "\n",
        "From the perspective of project execution, you need to assume the role of analysts: work on the features, explore the information contained in the dataset, identify trends, patterns, and facts from the data, and, of course, present all of this in a clear manner.\n",
        "\n",
        "In fact, you can perceive this project in the following way: a business client comes to you — for example, this could be a representative from Netflix who wants to improve certain processes; or a company that wants to produce a new project and/or sell an existing product to Netflix; or a competitor of Netflix interested in a general market study; or any other stakeholder within this industry — and this client asks you to analyze the data and extract useful and significant business insights for them. Of course, the deeper, more meaningful, and more non-trivial these insights are, the more they will pay you :)\n"
      ]
    },
    {
      "cell_type": "markdown",
      "metadata": {
        "id": "VzyjDz3g6R-e"
      },
      "source": [
        "### Examples of questions and topics\n"
      ]
    },
    {
      "cell_type": "markdown",
      "metadata": {
        "id": "2ZBFsPxj6j0A"
      },
      "source": [
        "To prevent you from starting entirely from scratch, we have selected several guiding questions to help you begin your initial analysis.\n",
        "\n",
        "**Attention:** These questions are only *approximate* and provide just an *initial direction* for your research. While well-developed answers to these questions can bring you a significant amount of initial insights and useful information, you should not base your entire project solely on them. If possible, try to refine and expand on the topics covered in these questions, or even find other layers that are not addressed within them (in fact, there are quite a few!)."
      ]
    },
    {
      "cell_type": "markdown",
      "metadata": {
        "id": "m6DO0Czp8oiF"
      },
      "source": [
        "So, here are the questions:\n",
        "\n",
        "- How many rating groups are represented in the data?\n",
        "- How do the rating groups differ from each other?\n",
        "- What ratings do users give most frequently?\n",
        "- What ratings do users give on average?\n",
        "- In which years were the shows launched?\n",
        "- Can it be concluded that 2017 was more successful for Netflix than 2016?\n",
        "- Choose any show (for example, the most liked one) and create its descriptive profile. What questions about it would interest you if you were the client? Answer these questions :)\n",
        "- What are the features not presented in the data but significantly affecting the existing features?\n",
        "- How are the ratings formed?\n",
        "- How was the data collected?\n",
        "\n"
      ]
    },
    {
      "cell_type": "markdown",
      "metadata": {
        "id": "0TtjLvj5-DRE"
      },
      "source": [
        "To reiterate: these are just *approximate questions* to provide you with an initial direction to move in. You may choose to answer them or not at your discretion, and act in the way and direction you deem necessary!\n",
        "\n"
      ]
    },
    {
      "cell_type": "markdown",
      "metadata": {
        "id": "BIMqig8J-cWl"
      },
      "source": [
        "### Helpful notes and tips"
      ]
    },
    {
      "cell_type": "markdown",
      "metadata": {
        "id": "myYUHrtD-gcj"
      },
      "source": [
        "- Ensure that all charts on the slides can be read even without your comments;\n",
        "- Avoid making simple text slides;\n",
        "- Build your analysis based on the goal of presenting useful information for the business;\n",
        "- Any good Data Scientist should be able to work in a team, so the distribution of your efforts in the project is up to you;\n",
        "- It's not necessary to limit yourself to the provided dataset. You have the entire internet to find additional information and test your hypotheses. Go for it!\n"
      ]
    },
    {
      "cell_type": "markdown",
      "metadata": {
        "id": "AZdB2Z9S4D4C"
      },
      "source": [
        "### Approximate EDA Framework"
      ]
    },
    {
      "cell_type": "markdown",
      "metadata": {
        "id": "h3DrE6Az_IG0"
      },
      "source": [
        "Again, so you don't have to start writing code from scratch, we have built a simple framework of possible steps you might include as the basis of your initial analysis.\n",
        "\n",
        "As you may have already guessed, we’re not insisting! :)"
      ]
    },
    {
      "cell_type": "markdown",
      "metadata": {
        "id": "bJJkNLerajEn"
      },
      "source": [
        "#### Download the Data\n",
        "Load the data by executing the code below."
      ]
    },
    {
      "cell_type": "code",
      "execution_count": 11,
      "metadata": {},
      "outputs": [],
      "source": [
        "import pandas as pd\n",
        "import numpy as np\n",
        "import seaborn as sns\n",
        "import matplotlib.pyplot as plt\n",
        "import squarify\n",
        "import os\n",
        "import csv"
      ]
    },
    {
      "cell_type": "code",
      "execution_count": 30,
      "metadata": {},
      "outputs": [],
      "source": [
        "from scipy import stats"
      ]
    },
    {
      "cell_type": "code",
      "execution_count": 12,
      "metadata": {},
      "outputs": [],
      "source": [
        "data = pd.read_csv(\"NetflixShows.csv\", encoding='utf-8', sep=';')"
      ]
    },
    {
      "cell_type": "code",
      "execution_count": 13,
      "metadata": {},
      "outputs": [
        {
          "data": {
            "text/html": [
              "<div>\n",
              "<style scoped>\n",
              "    .dataframe tbody tr th:only-of-type {\n",
              "        vertical-align: middle;\n",
              "    }\n",
              "\n",
              "    .dataframe tbody tr th {\n",
              "        vertical-align: top;\n",
              "    }\n",
              "\n",
              "    .dataframe thead th {\n",
              "        text-align: right;\n",
              "    }\n",
              "</style>\n",
              "<table border=\"1\" class=\"dataframe\">\n",
              "  <thead>\n",
              "    <tr style=\"text-align: right;\">\n",
              "      <th></th>\n",
              "      <th>title</th>\n",
              "      <th>rating</th>\n",
              "      <th>ratingLevel</th>\n",
              "      <th>ratingDescription</th>\n",
              "      <th>release year</th>\n",
              "      <th>user rating score</th>\n",
              "      <th>user rating size</th>\n",
              "    </tr>\n",
              "  </thead>\n",
              "  <tbody>\n",
              "    <tr>\n",
              "      <th>0</th>\n",
              "      <td>White Chicks</td>\n",
              "      <td>PG-13</td>\n",
              "      <td>crude and sexual humor, language and some drug...</td>\n",
              "      <td>80</td>\n",
              "      <td>2004</td>\n",
              "      <td>82.0</td>\n",
              "      <td>80</td>\n",
              "    </tr>\n",
              "    <tr>\n",
              "      <th>1</th>\n",
              "      <td>Lucky Number Slevin</td>\n",
              "      <td>R</td>\n",
              "      <td>strong violence, sexual content and adult lang...</td>\n",
              "      <td>100</td>\n",
              "      <td>2006</td>\n",
              "      <td>NaN</td>\n",
              "      <td>82</td>\n",
              "    </tr>\n",
              "    <tr>\n",
              "      <th>2</th>\n",
              "      <td>Grey's Anatomy</td>\n",
              "      <td>TV-14</td>\n",
              "      <td>Parents strongly cautioned. May be unsuitable ...</td>\n",
              "      <td>90</td>\n",
              "      <td>2016</td>\n",
              "      <td>98.0</td>\n",
              "      <td>80</td>\n",
              "    </tr>\n",
              "    <tr>\n",
              "      <th>3</th>\n",
              "      <td>Prison Break</td>\n",
              "      <td>TV-14</td>\n",
              "      <td>Parents strongly cautioned. May be unsuitable ...</td>\n",
              "      <td>90</td>\n",
              "      <td>2008</td>\n",
              "      <td>98.0</td>\n",
              "      <td>80</td>\n",
              "    </tr>\n",
              "    <tr>\n",
              "      <th>4</th>\n",
              "      <td>How I Met Your Mother</td>\n",
              "      <td>TV-PG</td>\n",
              "      <td>Parental guidance suggested. May not be suitab...</td>\n",
              "      <td>70</td>\n",
              "      <td>2014</td>\n",
              "      <td>94.0</td>\n",
              "      <td>80</td>\n",
              "    </tr>\n",
              "    <tr>\n",
              "      <th>...</th>\n",
              "      <td>...</td>\n",
              "      <td>...</td>\n",
              "      <td>...</td>\n",
              "      <td>...</td>\n",
              "      <td>...</td>\n",
              "      <td>...</td>\n",
              "      <td>...</td>\n",
              "    </tr>\n",
              "    <tr>\n",
              "      <th>995</th>\n",
              "      <td>The BFG</td>\n",
              "      <td>PG</td>\n",
              "      <td>for action/peril, some scary moments and brief...</td>\n",
              "      <td>60</td>\n",
              "      <td>2016</td>\n",
              "      <td>97.0</td>\n",
              "      <td>80</td>\n",
              "    </tr>\n",
              "    <tr>\n",
              "      <th>996</th>\n",
              "      <td>The Secret Life of Pets</td>\n",
              "      <td>PG</td>\n",
              "      <td>for action and some rude humor</td>\n",
              "      <td>60</td>\n",
              "      <td>2016</td>\n",
              "      <td>NaN</td>\n",
              "      <td>81</td>\n",
              "    </tr>\n",
              "    <tr>\n",
              "      <th>997</th>\n",
              "      <td>Precious Puppies</td>\n",
              "      <td>TV-G</td>\n",
              "      <td>Suitable for all ages.</td>\n",
              "      <td>35</td>\n",
              "      <td>2003</td>\n",
              "      <td>NaN</td>\n",
              "      <td>82</td>\n",
              "    </tr>\n",
              "    <tr>\n",
              "      <th>998</th>\n",
              "      <td>Beary Tales</td>\n",
              "      <td>TV-G</td>\n",
              "      <td>Suitable for all ages.</td>\n",
              "      <td>35</td>\n",
              "      <td>2013</td>\n",
              "      <td>NaN</td>\n",
              "      <td>82</td>\n",
              "    </tr>\n",
              "    <tr>\n",
              "      <th>999</th>\n",
              "      <td>Growing Up Wild</td>\n",
              "      <td>G</td>\n",
              "      <td>NaN</td>\n",
              "      <td>35</td>\n",
              "      <td>2016</td>\n",
              "      <td>80.0</td>\n",
              "      <td>80</td>\n",
              "    </tr>\n",
              "  </tbody>\n",
              "</table>\n",
              "<p>1000 rows × 7 columns</p>\n",
              "</div>"
            ],
            "text/plain": [
              "                       title rating  \\\n",
              "0               White Chicks  PG-13   \n",
              "1        Lucky Number Slevin      R   \n",
              "2             Grey's Anatomy  TV-14   \n",
              "3               Prison Break  TV-14   \n",
              "4      How I Met Your Mother  TV-PG   \n",
              "..                       ...    ...   \n",
              "995                  The BFG     PG   \n",
              "996  The Secret Life of Pets     PG   \n",
              "997         Precious Puppies   TV-G   \n",
              "998              Beary Tales   TV-G   \n",
              "999          Growing Up Wild      G   \n",
              "\n",
              "                                           ratingLevel  ratingDescription  \\\n",
              "0    crude and sexual humor, language and some drug...                 80   \n",
              "1    strong violence, sexual content and adult lang...                100   \n",
              "2    Parents strongly cautioned. May be unsuitable ...                 90   \n",
              "3    Parents strongly cautioned. May be unsuitable ...                 90   \n",
              "4    Parental guidance suggested. May not be suitab...                 70   \n",
              "..                                                 ...                ...   \n",
              "995  for action/peril, some scary moments and brief...                 60   \n",
              "996                     for action and some rude humor                 60   \n",
              "997                             Suitable for all ages.                 35   \n",
              "998                             Suitable for all ages.                 35   \n",
              "999                                                NaN                 35   \n",
              "\n",
              "     release year  user rating score  user rating size  \n",
              "0            2004               82.0                80  \n",
              "1            2006                NaN                82  \n",
              "2            2016               98.0                80  \n",
              "3            2008               98.0                80  \n",
              "4            2014               94.0                80  \n",
              "..            ...                ...               ...  \n",
              "995          2016               97.0                80  \n",
              "996          2016                NaN                81  \n",
              "997          2003                NaN                82  \n",
              "998          2013                NaN                82  \n",
              "999          2016               80.0                80  \n",
              "\n",
              "[1000 rows x 7 columns]"
            ]
          },
          "execution_count": 13,
          "metadata": {},
          "output_type": "execute_result"
        }
      ],
      "source": [
        "data"
      ]
    },
    {
      "cell_type": "code",
      "execution_count": 14,
      "metadata": {},
      "outputs": [
        {
          "name": "stdout",
          "output_type": "stream",
          "text": [
            "<class 'pandas.core.frame.DataFrame'>\n",
            "RangeIndex: 1000 entries, 0 to 999\n",
            "Data columns (total 7 columns):\n",
            " #   Column             Non-Null Count  Dtype  \n",
            "---  ------             --------------  -----  \n",
            " 0   title              1000 non-null   object \n",
            " 1   rating             1000 non-null   object \n",
            " 2   ratingLevel        941 non-null    object \n",
            " 3   ratingDescription  1000 non-null   int64  \n",
            " 4   release year       1000 non-null   int64  \n",
            " 5   user rating score  605 non-null    float64\n",
            " 6   user rating size   1000 non-null   int64  \n",
            "dtypes: float64(1), int64(3), object(3)\n",
            "memory usage: 54.8+ KB\n"
          ]
        }
      ],
      "source": [
        "data.info()"
      ]
    },
    {
      "cell_type": "code",
      "execution_count": 15,
      "metadata": {},
      "outputs": [
        {
          "data": {
            "text/html": [
              "<div>\n",
              "<style scoped>\n",
              "    .dataframe tbody tr th:only-of-type {\n",
              "        vertical-align: middle;\n",
              "    }\n",
              "\n",
              "    .dataframe tbody tr th {\n",
              "        vertical-align: top;\n",
              "    }\n",
              "\n",
              "    .dataframe thead th {\n",
              "        text-align: right;\n",
              "    }\n",
              "</style>\n",
              "<table border=\"1\" class=\"dataframe\">\n",
              "  <thead>\n",
              "    <tr style=\"text-align: right;\">\n",
              "      <th></th>\n",
              "      <th>ratingDescription</th>\n",
              "      <th>release year</th>\n",
              "      <th>user rating score</th>\n",
              "      <th>user rating size</th>\n",
              "    </tr>\n",
              "  </thead>\n",
              "  <tbody>\n",
              "    <tr>\n",
              "      <th>count</th>\n",
              "      <td>1000.00000</td>\n",
              "      <td>1000.000000</td>\n",
              "      <td>605.000000</td>\n",
              "      <td>1000.000000</td>\n",
              "    </tr>\n",
              "    <tr>\n",
              "      <th>mean</th>\n",
              "      <td>67.36600</td>\n",
              "      <td>2010.335000</td>\n",
              "      <td>84.094215</td>\n",
              "      <td>80.783000</td>\n",
              "    </tr>\n",
              "    <tr>\n",
              "      <th>std</th>\n",
              "      <td>30.78561</td>\n",
              "      <td>8.877927</td>\n",
              "      <td>12.344371</td>\n",
              "      <td>0.973066</td>\n",
              "    </tr>\n",
              "    <tr>\n",
              "      <th>min</th>\n",
              "      <td>10.00000</td>\n",
              "      <td>1940.000000</td>\n",
              "      <td>55.000000</td>\n",
              "      <td>80.000000</td>\n",
              "    </tr>\n",
              "    <tr>\n",
              "      <th>25%</th>\n",
              "      <td>35.00000</td>\n",
              "      <td>2007.000000</td>\n",
              "      <td>75.000000</td>\n",
              "      <td>80.000000</td>\n",
              "    </tr>\n",
              "    <tr>\n",
              "      <th>50%</th>\n",
              "      <td>60.00000</td>\n",
              "      <td>2015.000000</td>\n",
              "      <td>88.000000</td>\n",
              "      <td>80.000000</td>\n",
              "    </tr>\n",
              "    <tr>\n",
              "      <th>75%</th>\n",
              "      <td>90.00000</td>\n",
              "      <td>2016.000000</td>\n",
              "      <td>95.000000</td>\n",
              "      <td>82.000000</td>\n",
              "    </tr>\n",
              "    <tr>\n",
              "      <th>max</th>\n",
              "      <td>124.00000</td>\n",
              "      <td>2017.000000</td>\n",
              "      <td>99.000000</td>\n",
              "      <td>82.000000</td>\n",
              "    </tr>\n",
              "  </tbody>\n",
              "</table>\n",
              "</div>"
            ],
            "text/plain": [
              "       ratingDescription  release year  user rating score  user rating size\n",
              "count         1000.00000   1000.000000         605.000000       1000.000000\n",
              "mean            67.36600   2010.335000          84.094215         80.783000\n",
              "std             30.78561      8.877927          12.344371          0.973066\n",
              "min             10.00000   1940.000000          55.000000         80.000000\n",
              "25%             35.00000   2007.000000          75.000000         80.000000\n",
              "50%             60.00000   2015.000000          88.000000         80.000000\n",
              "75%             90.00000   2016.000000          95.000000         82.000000\n",
              "max            124.00000   2017.000000          99.000000         82.000000"
            ]
          },
          "execution_count": 15,
          "metadata": {},
          "output_type": "execute_result"
        }
      ],
      "source": [
        "data.describe()"
      ]
    },
    {
      "cell_type": "markdown",
      "metadata": {},
      "source": [
        "#### Handling duplicates"
      ]
    },
    {
      "cell_type": "code",
      "execution_count": 16,
      "metadata": {},
      "outputs": [
        {
          "name": "stdout",
          "output_type": "stream",
          "text": [
            "Frequency of values ​​in the 'title' column:\n",
            "title\n",
            "13 Reasons Why          8\n",
            "Girlboss                7\n",
            "Prison Break            7\n",
            "Pretty Little Liars     6\n",
            "Shameless (U.S.)        6\n",
            "                       ..\n",
            "100 Metros              1\n",
            "The Girl in the Book    1\n",
            "The Returned            1\n",
            "Kurt Seyit & Sura       1\n",
            "Beary Tales             1\n",
            "Name: count, Length: 496, dtype: int64\n"
          ]
        }
      ],
      "source": [
        "value_counts = data['title'].value_counts()\n",
        "print(\"Frequency of values ​​in the 'title' column:\")\n",
        "print(value_counts)"
      ]
    },
    {
      "cell_type": "code",
      "execution_count": 17,
      "metadata": {},
      "outputs": [
        {
          "name": "stdout",
          "output_type": "stream",
          "text": [
            "Frequency of values ​​in the 'rating' column:\n",
            "rating\n",
            "TV-14       234\n",
            "PG          170\n",
            "TV-MA       148\n",
            "G           138\n",
            "TV-Y         68\n",
            "TV-PG        59\n",
            "TV-G         52\n",
            "TV-Y7-FV     44\n",
            "TV-Y7        38\n",
            "R            19\n",
            "PG-13        15\n",
            "NR           14\n",
            "UR            1\n",
            "Name: count, dtype: int64\n"
          ]
        }
      ],
      "source": [
        "value_counts = data['rating'].value_counts()\n",
        "print(\"Frequency of values ​​in the 'rating' column:\")\n",
        "print(value_counts)"
      ]
    },
    {
      "cell_type": "markdown",
      "metadata": {},
      "source": [
        "From this we can conclude that there are only 496 unique names out of 1000, which means there really are a lot of duplicates in the dataset. Let's look at them more closely."
      ]
    },
    {
      "cell_type": "code",
      "execution_count": 18,
      "metadata": {},
      "outputs": [
        {
          "data": {
            "text/html": [
              "<div>\n",
              "<style scoped>\n",
              "    .dataframe tbody tr th:only-of-type {\n",
              "        vertical-align: middle;\n",
              "    }\n",
              "\n",
              "    .dataframe tbody tr th {\n",
              "        vertical-align: top;\n",
              "    }\n",
              "\n",
              "    .dataframe thead th {\n",
              "        text-align: right;\n",
              "    }\n",
              "</style>\n",
              "<table border=\"1\" class=\"dataframe\">\n",
              "  <thead>\n",
              "    <tr style=\"text-align: right;\">\n",
              "      <th></th>\n",
              "      <th>title</th>\n",
              "      <th>rating</th>\n",
              "      <th>ratingLevel</th>\n",
              "      <th>ratingDescription</th>\n",
              "      <th>release year</th>\n",
              "      <th>user rating score</th>\n",
              "      <th>user rating size</th>\n",
              "    </tr>\n",
              "  </thead>\n",
              "  <tbody>\n",
              "    <tr>\n",
              "      <th>396</th>\n",
              "      <td>13 Reasons Why</td>\n",
              "      <td>TV-MA</td>\n",
              "      <td>For mature audiences.  May not be suitable for...</td>\n",
              "      <td>110</td>\n",
              "      <td>2017</td>\n",
              "      <td>99.0</td>\n",
              "      <td>80</td>\n",
              "    </tr>\n",
              "    <tr>\n",
              "      <th>295</th>\n",
              "      <td>13 Reasons Why</td>\n",
              "      <td>TV-MA</td>\n",
              "      <td>For mature audiences.  May not be suitable for...</td>\n",
              "      <td>110</td>\n",
              "      <td>2017</td>\n",
              "      <td>99.0</td>\n",
              "      <td>80</td>\n",
              "    </tr>\n",
              "    <tr>\n",
              "      <th>241</th>\n",
              "      <td>13 Reasons Why</td>\n",
              "      <td>TV-MA</td>\n",
              "      <td>For mature audiences.  May not be suitable for...</td>\n",
              "      <td>110</td>\n",
              "      <td>2017</td>\n",
              "      <td>99.0</td>\n",
              "      <td>80</td>\n",
              "    </tr>\n",
              "    <tr>\n",
              "      <th>189</th>\n",
              "      <td>13 Reasons Why</td>\n",
              "      <td>TV-MA</td>\n",
              "      <td>For mature audiences.  May not be suitable for...</td>\n",
              "      <td>110</td>\n",
              "      <td>2017</td>\n",
              "      <td>99.0</td>\n",
              "      <td>80</td>\n",
              "    </tr>\n",
              "    <tr>\n",
              "      <th>497</th>\n",
              "      <td>13 Reasons Why</td>\n",
              "      <td>TV-MA</td>\n",
              "      <td>For mature audiences.  May not be suitable for...</td>\n",
              "      <td>110</td>\n",
              "      <td>2017</td>\n",
              "      <td>99.0</td>\n",
              "      <td>80</td>\n",
              "    </tr>\n",
              "  </tbody>\n",
              "</table>\n",
              "</div>"
            ],
            "text/plain": [
              "              title rating                                        ratingLevel  \\\n",
              "396  13 Reasons Why  TV-MA  For mature audiences.  May not be suitable for...   \n",
              "295  13 Reasons Why  TV-MA  For mature audiences.  May not be suitable for...   \n",
              "241  13 Reasons Why  TV-MA  For mature audiences.  May not be suitable for...   \n",
              "189  13 Reasons Why  TV-MA  For mature audiences.  May not be suitable for...   \n",
              "497  13 Reasons Why  TV-MA  For mature audiences.  May not be suitable for...   \n",
              "\n",
              "     ratingDescription  release year  user rating score  user rating size  \n",
              "396                110          2017               99.0                80  \n",
              "295                110          2017               99.0                80  \n",
              "241                110          2017               99.0                80  \n",
              "189                110          2017               99.0                80  \n",
              "497                110          2017               99.0                80  "
            ]
          },
          "execution_count": 18,
          "metadata": {},
          "output_type": "execute_result"
        }
      ],
      "source": [
        "data['title'] = data['title'].astype(str)\n",
        "duplicated_values = data['title'].value_counts()[data['title'].value_counts() > 1].index\n",
        "\n",
        "# Filter the dataframe by these values\n",
        "duplicate_rows = data[data['title'].isin(duplicated_values)]\n",
        "duplicate_rows.sort_values('title').head()"
      ]
    },
    {
      "cell_type": "markdown",
      "metadata": {},
      "source": [
        "Lines are completely identical. Let's delete duplicates."
      ]
    },
    {
      "cell_type": "code",
      "execution_count": 19,
      "metadata": {},
      "outputs": [
        {
          "name": "stdout",
          "output_type": "stream",
          "text": [
            "<class 'pandas.core.frame.DataFrame'>\n",
            "Index: 496 entries, 0 to 998\n",
            "Data columns (total 7 columns):\n",
            " #   Column             Non-Null Count  Dtype  \n",
            "---  ------             --------------  -----  \n",
            " 0   title              496 non-null    object \n",
            " 1   rating             496 non-null    object \n",
            " 2   ratingLevel        464 non-null    object \n",
            " 3   ratingDescription  496 non-null    int64  \n",
            " 4   release year       496 non-null    int64  \n",
            " 5   user rating score  254 non-null    float64\n",
            " 6   user rating size   496 non-null    int64  \n",
            "dtypes: float64(1), int64(3), object(3)\n",
            "memory usage: 31.0+ KB\n"
          ]
        }
      ],
      "source": [
        "data_no_dublicates = data.drop_duplicates(subset=['title'], keep='first')\n",
        "data_no_dublicates.info()"
      ]
    },
    {
      "cell_type": "markdown",
      "metadata": {},
      "source": [
        "Types of the colums are correct, no need to change them.\n",
        "\n"
      ]
    },
    {
      "cell_type": "code",
      "execution_count": 20,
      "metadata": {},
      "outputs": [
        {
          "data": {
            "text/html": [
              "<div>\n",
              "<style scoped>\n",
              "    .dataframe tbody tr th:only-of-type {\n",
              "        vertical-align: middle;\n",
              "    }\n",
              "\n",
              "    .dataframe tbody tr th {\n",
              "        vertical-align: top;\n",
              "    }\n",
              "\n",
              "    .dataframe thead th {\n",
              "        text-align: right;\n",
              "    }\n",
              "</style>\n",
              "<table border=\"1\" class=\"dataframe\">\n",
              "  <thead>\n",
              "    <tr style=\"text-align: right;\">\n",
              "      <th></th>\n",
              "      <th>title</th>\n",
              "      <th>rating</th>\n",
              "      <th>ratingLevel</th>\n",
              "      <th>ratingDescription</th>\n",
              "      <th>release year</th>\n",
              "      <th>user rating score</th>\n",
              "      <th>user rating size</th>\n",
              "    </tr>\n",
              "  </thead>\n",
              "  <tbody>\n",
              "    <tr>\n",
              "      <th>0</th>\n",
              "      <td>White Chicks</td>\n",
              "      <td>PG-13</td>\n",
              "      <td>crude and sexual humor, language and some drug...</td>\n",
              "      <td>80</td>\n",
              "      <td>2004</td>\n",
              "      <td>82.0</td>\n",
              "      <td>80</td>\n",
              "    </tr>\n",
              "    <tr>\n",
              "      <th>1</th>\n",
              "      <td>Lucky Number Slevin</td>\n",
              "      <td>R</td>\n",
              "      <td>strong violence, sexual content and adult lang...</td>\n",
              "      <td>100</td>\n",
              "      <td>2006</td>\n",
              "      <td>NaN</td>\n",
              "      <td>82</td>\n",
              "    </tr>\n",
              "    <tr>\n",
              "      <th>2</th>\n",
              "      <td>Grey's Anatomy</td>\n",
              "      <td>TV-14</td>\n",
              "      <td>Parents strongly cautioned. May be unsuitable ...</td>\n",
              "      <td>90</td>\n",
              "      <td>2016</td>\n",
              "      <td>98.0</td>\n",
              "      <td>80</td>\n",
              "    </tr>\n",
              "    <tr>\n",
              "      <th>3</th>\n",
              "      <td>Prison Break</td>\n",
              "      <td>TV-14</td>\n",
              "      <td>Parents strongly cautioned. May be unsuitable ...</td>\n",
              "      <td>90</td>\n",
              "      <td>2008</td>\n",
              "      <td>98.0</td>\n",
              "      <td>80</td>\n",
              "    </tr>\n",
              "    <tr>\n",
              "      <th>4</th>\n",
              "      <td>How I Met Your Mother</td>\n",
              "      <td>TV-PG</td>\n",
              "      <td>Parental guidance suggested. May not be suitab...</td>\n",
              "      <td>70</td>\n",
              "      <td>2014</td>\n",
              "      <td>94.0</td>\n",
              "      <td>80</td>\n",
              "    </tr>\n",
              "  </tbody>\n",
              "</table>\n",
              "</div>"
            ],
            "text/plain": [
              "                   title rating  \\\n",
              "0           White Chicks  PG-13   \n",
              "1    Lucky Number Slevin      R   \n",
              "2         Grey's Anatomy  TV-14   \n",
              "3           Prison Break  TV-14   \n",
              "4  How I Met Your Mother  TV-PG   \n",
              "\n",
              "                                         ratingLevel  ratingDescription  \\\n",
              "0  crude and sexual humor, language and some drug...                 80   \n",
              "1  strong violence, sexual content and adult lang...                100   \n",
              "2  Parents strongly cautioned. May be unsuitable ...                 90   \n",
              "3  Parents strongly cautioned. May be unsuitable ...                 90   \n",
              "4  Parental guidance suggested. May not be suitab...                 70   \n",
              "\n",
              "   release year  user rating score  user rating size  \n",
              "0          2004               82.0                80  \n",
              "1          2006                NaN                82  \n",
              "2          2016               98.0                80  \n",
              "3          2008               98.0                80  \n",
              "4          2014               94.0                80  "
            ]
          },
          "execution_count": 20,
          "metadata": {},
          "output_type": "execute_result"
        }
      ],
      "source": [
        "data_no_dublicates.head()"
      ]
    },
    {
      "cell_type": "markdown",
      "metadata": {},
      "source": [
        "#### Adding a new dataset of the 1000 best TV shows according to IMDB\n",
        "https://www.kaggle.com/datasets/harshitshankhdhar/imdb-dataset-of-top-1000-movies-and-tv-shows"
      ]
    },
    {
      "cell_type": "code",
      "execution_count": 36,
      "metadata": {},
      "outputs": [
        {
          "name": "stdout",
          "output_type": "stream",
          "text": [
            "<class 'pandas.core.frame.DataFrame'>\n",
            "RangeIndex: 1000 entries, 0 to 999\n",
            "Data columns (total 2 columns):\n",
            " #   Column        Non-Null Count  Dtype  \n",
            "---  ------        --------------  -----  \n",
            " 0   Series_Title  1000 non-null   object \n",
            " 1   IMDB_Rating   1000 non-null   float64\n",
            "dtypes: float64(1), object(1)\n",
            "memory usage: 15.8+ KB\n"
          ]
        }
      ],
      "source": [
        "df_1 = pd.read_csv(\"imdb_top_1000.csv\",encoding='utf-8',sep=',')\n",
        "df_imdb = df_1[['Series_Title','IMDB_Rating']]\n",
        "df_imdb.info()"
      ]
    },
    {
      "cell_type": "markdown",
      "metadata": {},
      "source": [
        "#### New Dimension Is Netflix TV Show In The Top 1000 On IMDB"
      ]
    },
    {
      "cell_type": "code",
      "execution_count": 37,
      "metadata": {},
      "outputs": [
        {
          "name": "stderr",
          "output_type": "stream",
          "text": [
            "/var/folders/nc/z8kzy6gj3tn9w4vd70rr4hlc0000gn/T/ipykernel_55542/1836300606.py:2: SettingWithCopyWarning: \n",
            "A value is trying to be set on a copy of a slice from a DataFrame.\n",
            "Try using .loc[row_indexer,col_indexer] = value instead\n",
            "\n",
            "See the caveats in the documentation: https://pandas.pydata.org/pandas-docs/stable/user_guide/indexing.html#returning-a-view-versus-a-copy\n",
            "  df_imdb['title_normalized'] = df_imdb['Series_Title'].str.lower().str.strip()\n"
          ]
        }
      ],
      "source": [
        "data_no_dublicates['title_normalized'] = data_no_dublicates['title'].str.lower().str.strip()\n",
        "df_imdb['title_normalized'] = df_imdb['Series_Title'].str.lower().str.strip()\n",
        "\n",
        "data_no_dublicates['is_top_1000'] = data_no_dublicates['title_normalized'].isin(df_imdb['title_normalized'])\n",
        "data_no_dublicates['is_top_1000'] = data_no_dublicates['title'].isin(df_imdb['Series_Title'])"
      ]
    },
    {
      "cell_type": "code",
      "execution_count": 39,
      "metadata": {},
      "outputs": [
        {
          "data": {
            "text/html": [
              "<div>\n",
              "<style scoped>\n",
              "    .dataframe tbody tr th:only-of-type {\n",
              "        vertical-align: middle;\n",
              "    }\n",
              "\n",
              "    .dataframe tbody tr th {\n",
              "        vertical-align: top;\n",
              "    }\n",
              "\n",
              "    .dataframe thead th {\n",
              "        text-align: right;\n",
              "    }\n",
              "</style>\n",
              "<table border=\"1\" class=\"dataframe\">\n",
              "  <thead>\n",
              "    <tr style=\"text-align: right;\">\n",
              "      <th></th>\n",
              "      <th>title</th>\n",
              "      <th>rating</th>\n",
              "      <th>ratingDescription</th>\n",
              "      <th>release year</th>\n",
              "      <th>user rating score</th>\n",
              "      <th>user rating size</th>\n",
              "      <th>title_normalized</th>\n",
              "      <th>is_top_1000</th>\n",
              "    </tr>\n",
              "  </thead>\n",
              "  <tbody>\n",
              "    <tr>\n",
              "      <th>0</th>\n",
              "      <td>White Chicks</td>\n",
              "      <td>PG-13</td>\n",
              "      <td>80</td>\n",
              "      <td>2004</td>\n",
              "      <td>82.0</td>\n",
              "      <td>80</td>\n",
              "      <td>white chicks</td>\n",
              "      <td>False</td>\n",
              "    </tr>\n",
              "    <tr>\n",
              "      <th>1</th>\n",
              "      <td>Lucky Number Slevin</td>\n",
              "      <td>R</td>\n",
              "      <td>100</td>\n",
              "      <td>2006</td>\n",
              "      <td>NaN</td>\n",
              "      <td>82</td>\n",
              "      <td>lucky number slevin</td>\n",
              "      <td>True</td>\n",
              "    </tr>\n",
              "    <tr>\n",
              "      <th>2</th>\n",
              "      <td>Grey's Anatomy</td>\n",
              "      <td>TV-14</td>\n",
              "      <td>90</td>\n",
              "      <td>2016</td>\n",
              "      <td>98.0</td>\n",
              "      <td>80</td>\n",
              "      <td>grey's anatomy</td>\n",
              "      <td>False</td>\n",
              "    </tr>\n",
              "    <tr>\n",
              "      <th>3</th>\n",
              "      <td>Prison Break</td>\n",
              "      <td>TV-14</td>\n",
              "      <td>90</td>\n",
              "      <td>2008</td>\n",
              "      <td>98.0</td>\n",
              "      <td>80</td>\n",
              "      <td>prison break</td>\n",
              "      <td>False</td>\n",
              "    </tr>\n",
              "    <tr>\n",
              "      <th>4</th>\n",
              "      <td>How I Met Your Mother</td>\n",
              "      <td>TV-PG</td>\n",
              "      <td>70</td>\n",
              "      <td>2014</td>\n",
              "      <td>94.0</td>\n",
              "      <td>80</td>\n",
              "      <td>how i met your mother</td>\n",
              "      <td>False</td>\n",
              "    </tr>\n",
              "    <tr>\n",
              "      <th>...</th>\n",
              "      <td>...</td>\n",
              "      <td>...</td>\n",
              "      <td>...</td>\n",
              "      <td>...</td>\n",
              "      <td>...</td>\n",
              "      <td>...</td>\n",
              "      <td>...</td>\n",
              "      <td>...</td>\n",
              "    </tr>\n",
              "    <tr>\n",
              "      <th>989</th>\n",
              "      <td>Russell Madness</td>\n",
              "      <td>PG</td>\n",
              "      <td>60</td>\n",
              "      <td>2015</td>\n",
              "      <td>NaN</td>\n",
              "      <td>82</td>\n",
              "      <td>russell madness</td>\n",
              "      <td>False</td>\n",
              "    </tr>\n",
              "    <tr>\n",
              "      <th>993</th>\n",
              "      <td>Wiener Dog Internationals</td>\n",
              "      <td>G</td>\n",
              "      <td>35</td>\n",
              "      <td>2015</td>\n",
              "      <td>NaN</td>\n",
              "      <td>82</td>\n",
              "      <td>wiener dog internationals</td>\n",
              "      <td>False</td>\n",
              "    </tr>\n",
              "    <tr>\n",
              "      <th>994</th>\n",
              "      <td>Pup Star</td>\n",
              "      <td>G</td>\n",
              "      <td>35</td>\n",
              "      <td>2016</td>\n",
              "      <td>NaN</td>\n",
              "      <td>82</td>\n",
              "      <td>pup star</td>\n",
              "      <td>False</td>\n",
              "    </tr>\n",
              "    <tr>\n",
              "      <th>997</th>\n",
              "      <td>Precious Puppies</td>\n",
              "      <td>TV-G</td>\n",
              "      <td>35</td>\n",
              "      <td>2003</td>\n",
              "      <td>NaN</td>\n",
              "      <td>82</td>\n",
              "      <td>precious puppies</td>\n",
              "      <td>False</td>\n",
              "    </tr>\n",
              "    <tr>\n",
              "      <th>998</th>\n",
              "      <td>Beary Tales</td>\n",
              "      <td>TV-G</td>\n",
              "      <td>35</td>\n",
              "      <td>2013</td>\n",
              "      <td>NaN</td>\n",
              "      <td>82</td>\n",
              "      <td>beary tales</td>\n",
              "      <td>False</td>\n",
              "    </tr>\n",
              "  </tbody>\n",
              "</table>\n",
              "<p>496 rows × 8 columns</p>\n",
              "</div>"
            ],
            "text/plain": [
              "                         title rating  ratingDescription  release year  \\\n",
              "0                 White Chicks  PG-13                 80          2004   \n",
              "1          Lucky Number Slevin      R                100          2006   \n",
              "2               Grey's Anatomy  TV-14                 90          2016   \n",
              "3                 Prison Break  TV-14                 90          2008   \n",
              "4        How I Met Your Mother  TV-PG                 70          2014   \n",
              "..                         ...    ...                ...           ...   \n",
              "989            Russell Madness     PG                 60          2015   \n",
              "993  Wiener Dog Internationals      G                 35          2015   \n",
              "994                   Pup Star      G                 35          2016   \n",
              "997           Precious Puppies   TV-G                 35          2003   \n",
              "998                Beary Tales   TV-G                 35          2013   \n",
              "\n",
              "     user rating score  user rating size           title_normalized  \\\n",
              "0                 82.0                80               white chicks   \n",
              "1                  NaN                82        lucky number slevin   \n",
              "2                 98.0                80             grey's anatomy   \n",
              "3                 98.0                80               prison break   \n",
              "4                 94.0                80      how i met your mother   \n",
              "..                 ...               ...                        ...   \n",
              "989                NaN                82            russell madness   \n",
              "993                NaN                82  wiener dog internationals   \n",
              "994                NaN                82                   pup star   \n",
              "997                NaN                82           precious puppies   \n",
              "998                NaN                82                beary tales   \n",
              "\n",
              "     is_top_1000  \n",
              "0          False  \n",
              "1           True  \n",
              "2          False  \n",
              "3          False  \n",
              "4          False  \n",
              "..           ...  \n",
              "989        False  \n",
              "993        False  \n",
              "994        False  \n",
              "997        False  \n",
              "998        False  \n",
              "\n",
              "[496 rows x 8 columns]"
            ]
          },
          "execution_count": 39,
          "metadata": {},
          "output_type": "execute_result"
        }
      ],
      "source": [
        "data_no_dublicates"
      ]
    },
    {
      "cell_type": "markdown",
      "metadata": {},
      "source": [
        "#### IMDb Non-Commercial Datasets\n",
        "##### We combined 6 datasets from source to enrich our Netflix data: https://developer.imdb.com/non-commercial-datasets/#titlecrewtsvgz"
      ]
    },
    {
      "cell_type": "code",
      "execution_count": 40,
      "metadata": {},
      "outputs": [],
      "source": [
        "FOLDER = 'filtered_data'\n",
        "BASICS = os.path.join(FOLDER, 'filtered_title.basics.tsv')\n",
        "CREW = os.path.join(FOLDER, 'filtered_crew.tsv')\n",
        "EPISODES = os.path.join(FOLDER, 'filtered_episodes.tsv')\n",
        "PRINCIPALS = os.path.join(FOLDER, 'filtered_principals.tsv')\n",
        "RATINGS = os.path.join(FOLDER, 'filtered_ratings.tsv')\n",
        "NAMES = os.path.join(FOLDER, 'filtered_names.tsv')\n",
        "OUT_CSV = os.path.join(FOLDER, 'merged_imdb.csv')"
      ]
    },
    {
      "cell_type": "code",
      "execution_count": 41,
      "metadata": {},
      "outputs": [],
      "source": [
        "def read_tsv_to_dict(filename, key, multi=False):\n",
        "    d = {} if not multi else {}\n",
        "    with open(filename, encoding='utf-8') as f:\n",
        "        reader = csv.DictReader(f, delimiter='\\t')\n",
        "        for row in reader:\n",
        "            k = row[key]\n",
        "            if multi:\n",
        "                d.setdefault(k, []).append(row)\n",
        "            else:\n",
        "                d[k] = row\n",
        "    return d\n",
        "\n",
        "def read_principals(filename):\n",
        "    d = {}\n",
        "    with open(filename, encoding='utf-8') as f:\n",
        "        reader = csv.DictReader(f, delimiter='\\t')\n",
        "        for row in reader:\n",
        "            t = row['tconst']\n",
        "            d.setdefault(t, []).append(row)\n",
        "    return d\n",
        "\n",
        "def read_names(filename):\n",
        "    d = {}\n",
        "    with open(filename, encoding='utf-8') as f:\n",
        "        reader = csv.DictReader(f, delimiter='\\t')\n",
        "        for row in reader:\n",
        "            d[row['nconst']] = row\n",
        "    return d\n",
        "\n",
        "def nconsts_to_names(nconsts_str, names_dict):\n",
        "    if not nconsts_str or nconsts_str == '\\\\N':\n",
        "        return ''\n",
        "    nconsts = [n.strip() for n in nconsts_str.split(',') if n.strip() and n.strip() != '\\\\N']\n",
        "    names = [names_dict[n]['primaryName'] for n in nconsts if n in names_dict]\n",
        "    return ', '.join(names)"
      ]
    },
    {
      "cell_type": "code",
      "execution_count": 42,
      "metadata": {},
      "outputs": [],
      "source": [
        "crew = read_tsv_to_dict(CREW, 'tconst')\n",
        "ratings = read_tsv_to_dict(RATINGS, 'tconst')\n",
        "episodes = read_tsv_to_dict(EPISODES, 'tconst')\n",
        "principals = read_principals(PRINCIPALS)\n",
        "names = read_names(NAMES)"
      ]
    },
    {
      "cell_type": "code",
      "execution_count": null,
      "metadata": {},
      "outputs": [
        {
          "name": "stdout",
          "output_type": "stream",
          "text": [
            "Итоговый файл: filtered_data/merged_imdb.csv\n"
          ]
        }
      ],
      "source": [
        "with open(BASICS, encoding='utf-8') as fin, open(OUT_CSV, 'w', encoding='utf-8', newline='') as fout:\n",
        "    reader = csv.DictReader(fin, delimiter='\\t')\n",
        "    fieldnames = reader.fieldnames + [\n",
        "        'directors', 'writers',\n",
        "        'averageRating', 'numVotes',\n",
        "        'parentTconst', 'seasonNumber', 'episodeNumber',\n",
        "        'principals_names_list',\n",
        "        'directors_names', 'writers_names'\n",
        "    ]\n",
        "    writer = csv.DictWriter(fout, fieldnames=fieldnames)\n",
        "    writer.writeheader()\n",
        "    for row in reader:\n",
        "        tconst = row['tconst']\n",
        "        row['directors'] = crew.get(tconst, {}).get('directors', '')\n",
        "        row['writers'] = crew.get(tconst, {}).get('writers', '')\n",
        "        row['directors_names'] = nconsts_to_names(row['directors'], names)\n",
        "        row['writers_names'] = nconsts_to_names(row['writers'], names)\n",
        "        row['averageRating'] = ratings.get(tconst, {}).get('averageRating', '')\n",
        "        row['numVotes'] = ratings.get(tconst, {}).get('numVotes', '')\n",
        "        ep = episodes.get(tconst, {})\n",
        "        row['parentTconst'] = ep.get('parentTconst', '')\n",
        "        row['seasonNumber'] = ep.get('seasonNumber', '')\n",
        "        row['episodeNumber'] = ep.get('episodeNumber', '')\n",
        "        pr = principals.get(tconst, [])\n",
        "        nconsts = [p['nconst'] for p in pr]\n",
        "        names_list = [names[n]['primaryName'] for n in nconsts if n in names]\n",
        "        row['principals_names_list'] = ', '.join(names_list)\n",
        "        writer.writerow(row)\n",
        "print('Итоговый файл:', OUT_CSV)"
      ]
    },
    {
      "cell_type": "code",
      "execution_count": null,
      "metadata": {},
      "outputs": [
        {
          "name": "stdout",
          "output_type": "stream",
          "text": [
            "<class 'pandas.core.frame.DataFrame'>\n",
            "RangeIndex: 7706 entries, 0 to 7705\n",
            "Data columns (total 19 columns):\n",
            " #   Column                 Non-Null Count  Dtype  \n",
            "---  ------                 --------------  -----  \n",
            " 0   tconst                 7706 non-null   object \n",
            " 1   titleType              7706 non-null   object \n",
            " 2   primaryTitle           7706 non-null   object \n",
            " 3   originalTitle          7706 non-null   object \n",
            " 4   isAdult                7706 non-null   int64  \n",
            " 5   startYear              7706 non-null   object \n",
            " 6   endYear                7706 non-null   object \n",
            " 7   runtimeMinutes         7706 non-null   object \n",
            " 8   genres                 7705 non-null   object \n",
            " 9   directors              7706 non-null   object \n",
            " 10  writers                7706 non-null   object \n",
            " 11  averageRating          2747 non-null   float64\n",
            " 12  numVotes               2747 non-null   float64\n",
            " 13  parentTconst           4051 non-null   object \n",
            " 14  seasonNumber           4051 non-null   object \n",
            " 15  episodeNumber          4051 non-null   object \n",
            " 16  principals_names_list  6521 non-null   object \n",
            " 17  directors_names        5871 non-null   object \n",
            " 18  writers_names          5439 non-null   object \n",
            "dtypes: float64(2), int64(1), object(16)\n",
            "memory usage: 1.1+ MB\n"
          ]
        }
      ],
      "source": [
        "all_shows = pd.read_csv(OUT_CSV)\n",
        "all_shows.info()"
      ]
    },
    {
      "cell_type": "code",
      "execution_count": 46,
      "metadata": {},
      "outputs": [
        {
          "data": {
            "text/html": [
              "<div>\n",
              "<style scoped>\n",
              "    .dataframe tbody tr th:only-of-type {\n",
              "        vertical-align: middle;\n",
              "    }\n",
              "\n",
              "    .dataframe tbody tr th {\n",
              "        vertical-align: top;\n",
              "    }\n",
              "\n",
              "    .dataframe thead th {\n",
              "        text-align: right;\n",
              "    }\n",
              "</style>\n",
              "<table border=\"1\" class=\"dataframe\">\n",
              "  <thead>\n",
              "    <tr style=\"text-align: right;\">\n",
              "      <th></th>\n",
              "      <th>tconst</th>\n",
              "      <th>titleType</th>\n",
              "      <th>primaryTitle</th>\n",
              "      <th>originalTitle</th>\n",
              "      <th>isAdult</th>\n",
              "      <th>startYear</th>\n",
              "      <th>endYear</th>\n",
              "      <th>runtimeMinutes</th>\n",
              "      <th>genres</th>\n",
              "      <th>directors</th>\n",
              "      <th>writers</th>\n",
              "      <th>averageRating</th>\n",
              "      <th>numVotes</th>\n",
              "      <th>parentTconst</th>\n",
              "      <th>seasonNumber</th>\n",
              "      <th>episodeNumber</th>\n",
              "      <th>principals_names_list</th>\n",
              "      <th>directors_names</th>\n",
              "      <th>writers_names</th>\n",
              "    </tr>\n",
              "  </thead>\n",
              "  <tbody>\n",
              "    <tr>\n",
              "      <th>0</th>\n",
              "      <td>tt0001138</td>\n",
              "      <td>short</td>\n",
              "      <td>The Brothers</td>\n",
              "      <td>The Brothers</td>\n",
              "      <td>0</td>\n",
              "      <td>1910</td>\n",
              "      <td>\\N</td>\n",
              "      <td>\\N</td>\n",
              "      <td>Drama,Short</td>\n",
              "      <td>nm0294276</td>\n",
              "      <td>\\N</td>\n",
              "      <td>NaN</td>\n",
              "      <td>NaN</td>\n",
              "      <td>NaN</td>\n",
              "      <td>NaN</td>\n",
              "      <td>NaN</td>\n",
              "      <td>Theo Frenkel</td>\n",
              "      <td>Theo Frenkel</td>\n",
              "      <td>NaN</td>\n",
              "    </tr>\n",
              "    <tr>\n",
              "      <th>1</th>\n",
              "      <td>tt0001682</td>\n",
              "      <td>short</td>\n",
              "      <td>Home</td>\n",
              "      <td>Home</td>\n",
              "      <td>0</td>\n",
              "      <td>1911</td>\n",
              "      <td>\\N</td>\n",
              "      <td>\\N</td>\n",
              "      <td>Drama,Short</td>\n",
              "      <td>nm0002177</td>\n",
              "      <td>nm0581683</td>\n",
              "      <td>NaN</td>\n",
              "      <td>NaN</td>\n",
              "      <td>NaN</td>\n",
              "      <td>NaN</td>\n",
              "      <td>NaN</td>\n",
              "      <td>Oscar Apfel, Bannister Merwin</td>\n",
              "      <td>Oscar Apfel</td>\n",
              "      <td>Bannister Merwin</td>\n",
              "    </tr>\n",
              "    <tr>\n",
              "      <th>2</th>\n",
              "      <td>tt0002197</td>\n",
              "      <td>short</td>\n",
              "      <td>Friends</td>\n",
              "      <td>Friends</td>\n",
              "      <td>0</td>\n",
              "      <td>1912</td>\n",
              "      <td>\\N</td>\n",
              "      <td>17</td>\n",
              "      <td>Romance,Short,Western</td>\n",
              "      <td>nm0000428</td>\n",
              "      <td>nm0000428</td>\n",
              "      <td>5.5</td>\n",
              "      <td>336.0</td>\n",
              "      <td>NaN</td>\n",
              "      <td>NaN</td>\n",
              "      <td>NaN</td>\n",
              "      <td>D.W. Griffith, D.W. Griffith</td>\n",
              "      <td>D.W. Griffith</td>\n",
              "      <td>D.W. Griffith</td>\n",
              "    </tr>\n",
              "  </tbody>\n",
              "</table>\n",
              "</div>"
            ],
            "text/plain": [
              "      tconst titleType  primaryTitle originalTitle  isAdult startYear endYear  \\\n",
              "0  tt0001138     short  The Brothers  The Brothers        0      1910      \\N   \n",
              "1  tt0001682     short          Home          Home        0      1911      \\N   \n",
              "2  tt0002197     short       Friends       Friends        0      1912      \\N   \n",
              "\n",
              "  runtimeMinutes                 genres  directors    writers  averageRating  \\\n",
              "0             \\N            Drama,Short  nm0294276         \\N            NaN   \n",
              "1             \\N            Drama,Short  nm0002177  nm0581683            NaN   \n",
              "2             17  Romance,Short,Western  nm0000428  nm0000428            5.5   \n",
              "\n",
              "   numVotes parentTconst seasonNumber episodeNumber  \\\n",
              "0       NaN          NaN          NaN           NaN   \n",
              "1       NaN          NaN          NaN           NaN   \n",
              "2     336.0          NaN          NaN           NaN   \n",
              "\n",
              "           principals_names_list directors_names     writers_names  \n",
              "0                   Theo Frenkel    Theo Frenkel               NaN  \n",
              "1  Oscar Apfel, Bannister Merwin     Oscar Apfel  Bannister Merwin  \n",
              "2   D.W. Griffith, D.W. Griffith   D.W. Griffith     D.W. Griffith  "
            ]
          },
          "execution_count": 46,
          "metadata": {},
          "output_type": "execute_result"
        }
      ],
      "source": [
        "all_shows.head(3)"
      ]
    },
    {
      "cell_type": "code",
      "execution_count": 47,
      "metadata": {},
      "outputs": [],
      "source": [
        "all_shows = all_shows.drop(columns=['directors', 'writers', 'parentTconst', 'endYear'])\n",
        "all_shows = all_shows.replace('\\\\N', np.nan)\n",
        "\n",
        "all_shows['directors_names'] = all_shows['directors_names'].fillna('Unknown')\n",
        "all_shows['writers_names'] = all_shows['writers_names'].fillna('Unknown')\n",
        "all_shows['principals_names_list'] = all_shows['principals_names_list'].fillna('Unknown')\n",
        "all_shows['genres'] = all_shows['genres'].fillna('Unknown')\n",
        "\n",
        "all_shows['averageRating'] = all_shows['averageRating'].fillna(all_shows['averageRating'].mode()[0])\n",
        "all_shows['numVotes'] = all_shows['numVotes'].fillna(all_shows['numVotes'].mode()[0])\n",
        "all_shows['runtimeMinutes'] = all_shows['runtimeMinutes'].fillna(all_shows['runtimeMinutes'].mode()[0])"
      ]
    },
    {
      "cell_type": "code",
      "execution_count": 48,
      "metadata": {},
      "outputs": [],
      "source": [
        "all_shows = all_shows.dropna(subset=['startYear'])"
      ]
    },
    {
      "cell_type": "code",
      "execution_count": 49,
      "metadata": {},
      "outputs": [
        {
          "name": "stdout",
          "output_type": "stream",
          "text": [
            "tconst                      0\n",
            "titleType                   0\n",
            "primaryTitle                0\n",
            "originalTitle               0\n",
            "isAdult                     0\n",
            "startYear                   0\n",
            "runtimeMinutes              0\n",
            "genres                      0\n",
            "averageRating               0\n",
            "numVotes                    0\n",
            "seasonNumber             3723\n",
            "episodeNumber            3723\n",
            "principals_names_list       0\n",
            "directors_names             0\n",
            "writers_names               0\n",
            "dtype: int64\n"
          ]
        }
      ],
      "source": [
        "print(all_shows.isnull().sum())"
      ]
    },
    {
      "cell_type": "code",
      "execution_count": 50,
      "metadata": {},
      "outputs": [],
      "source": [
        "all_shows['title_normalized'] = all_shows['primaryTitle'].str.lower().str.strip()\n",
        "all_shows['startYear'] = all_shows['startYear'].astype(int)"
      ]
    },
    {
      "cell_type": "code",
      "execution_count": null,
      "metadata": {},
      "outputs": [],
      "source": [
        "def prepare_unique(all_shows, data_no_dublicates):\n",
        "    # 1. Удаляем лишние колонки и заменяем \\N на NaN\n",
        "    all_shows = all_shows.drop(columns=['directors', 'writers', 'parentTconst', 'endYear'], errors='ignore')\n",
        "    all_shows = all_shows.replace('\\\\N', np.nan)\n",
        "\n",
        "    # 2. Заполняем пропуски в строковых колонках\n",
        "    for col in ['directors_names', 'writers_names', 'principals_names_list', 'genres']:\n",
        "        if col in all_shows.columns:\n",
        "            all_shows[col] = all_shows[col].fillna('Unknown')\n",
        "\n",
        "    # 3. Заполняем пропуски в числовых колонках\n",
        "    for col in ['averageRating', 'numVotes', 'runtimeMinutes']:\n",
        "        if col in all_shows.columns:\n",
        "            mode = all_shows[col].mode()[0]\n",
        "            all_shows[col] = all_shows[col].fillna(mode)\n",
        "\n",
        "    # 4. Дроп строк с пропусками в startYear\n",
        "    all_shows = all_shows.dropna(subset=['startYear'])\n",
        "\n",
        "    # 5. Нормализуем название и приводим год к int\n",
        "    all_shows['title_normalized'] = all_shows['primaryTitle'].str.lower().str.strip()\n",
        "    all_shows['startYear'] = all_shows['startYear'].astype(int)\n",
        "\n",
        "    # 6. Мержим с data_no_dublicates\n",
        "    full_data = pd.merge(\n",
        "        data_no_dublicates,\n",
        "        all_shows,\n",
        "        left_on=['title_normalized', 'release year'],\n",
        "        right_on=['title_normalized', 'startYear'],\n",
        "        how='left'\n",
        "    )\n",
        "\n",
        "    # 7. Оставляем только уникальные записи\n",
        "    unique = full_data.drop_duplicates(subset=['title_normalized', 'release year', 'titleType', 'originalTitle'])\n",
        "\n",
        "    # 8. Удаляем лишние колонки и строки с videogame\n",
        "    unique = unique.drop(columns=['tconst', 'primaryTitle', 'originalTitle', 'startYear'], errors='ignore')\n",
        "    unique = unique[unique['titleType'].str.strip().str.lower() != 'videogame']\n",
        "\n",
        "    # 9. Приводим типы и заполняем пропуски\n",
        "    unique['isAdult'] = unique['isAdult'].astype(bool)\n",
        "    for col in ['numVotes', 'averageRating', 'runtimeMinutes']:\n",
        "        if col in unique.columns:\n",
        "            if col == 'numVotes':\n",
        "                unique[col] = unique[col].fillna(unique[col].median()).astype(int)\n",
        "            else:\n",
        "                unique[col] = unique[col].fillna(unique[col].median())\n",
        "\n",
        "    # 10. Приводим release year к int\n",
        "    if unique['release year'].dtype != int:\n",
        "        unique['release year'] = pd.to_numeric(unique['release year'], errors='coerce').astype(int)\n",
        "\n",
        "    # 11. Чистим жанры и имена (убираем дубли внутри ячеек)\n",
        "    def clean_cell(cell):\n",
        "        if pd.isna(cell):\n",
        "            return cell\n",
        "        items = [item.strip().lower() for item in str(cell).split(',')]\n",
        "        unique_items = list(dict.fromkeys(items))\n",
        "        return ','.join(unique_items)\n",
        "\n",
        "    for col in ['genres', 'principals_names_list', 'directors_names', 'writers_names']:\n",
        "        if col in unique.columns:\n",
        "            unique[col] = unique[col].apply(clean_cell)\n",
        "\n",
        "    # 12. Переименовываем principals_names_list в actors_list\n",
        "    if 'principals_names_list' in unique.columns:\n",
        "        unique = unique.rename(columns={'principals_names_list': 'actors_list'})\n",
        "\n",
        "    # 13. Приводим все строковые значения к нижнему регистру\n",
        "    for col in unique.select_dtypes(include='object').columns:\n",
        "        unique[col] = unique[col].str.lower()\n",
        "\n",
        "    # 14. Заполняем пропуски в строковых колонках\n",
        "    for col in ['directors_names', 'writers_names', 'actors_list', 'genres', 'titleType']:\n",
        "        if col in unique.columns:\n",
        "            unique[col] = unique[col].fillna('unknown')\n",
        "\n",
        "    # 15. Приводим числовые колонки к нужному типу\n",
        "    for col in ['numVotes', 'averageRating']:\n",
        "        if col in unique.columns:\n",
        "            unique[col] = pd.to_numeric(unique[col], errors='coerce')\n",
        "\n",
        "    # 16. Считаем success_score\n",
        "    unique['success_score'] = unique['averageRating'] * np.log1p(unique['numVotes'])\n",
        "\n",
        "    return unique\n",
        "\n",
        "unique = prepare_unique(all_shows, data_no_dublicates)"
      ]
    },
    {
      "cell_type": "code",
      "execution_count": 112,
      "metadata": {},
      "outputs": [
        {
          "data": {
            "text/html": [
              "<div>\n",
              "<style scoped>\n",
              "    .dataframe tbody tr th:only-of-type {\n",
              "        vertical-align: middle;\n",
              "    }\n",
              "\n",
              "    .dataframe tbody tr th {\n",
              "        vertical-align: top;\n",
              "    }\n",
              "\n",
              "    .dataframe thead th {\n",
              "        text-align: right;\n",
              "    }\n",
              "</style>\n",
              "<table border=\"1\" class=\"dataframe\">\n",
              "  <thead>\n",
              "    <tr style=\"text-align: right;\">\n",
              "      <th></th>\n",
              "      <th>title</th>\n",
              "      <th>rating</th>\n",
              "      <th>ratingDescription</th>\n",
              "      <th>release year</th>\n",
              "      <th>user rating score</th>\n",
              "      <th>user rating size</th>\n",
              "      <th>title_normalized</th>\n",
              "      <th>is_top_1000</th>\n",
              "      <th>titleType</th>\n",
              "      <th>isAdult</th>\n",
              "      <th>runtimeMinutes</th>\n",
              "      <th>genres</th>\n",
              "      <th>averageRating</th>\n",
              "      <th>numVotes</th>\n",
              "      <th>seasonNumber</th>\n",
              "      <th>episodeNumber</th>\n",
              "      <th>actors_list</th>\n",
              "      <th>directors_names</th>\n",
              "      <th>writers_names</th>\n",
              "      <th>success_score</th>\n",
              "    </tr>\n",
              "  </thead>\n",
              "  <tbody>\n",
              "    <tr>\n",
              "      <th>0</th>\n",
              "      <td>white chicks</td>\n",
              "      <td>pg-13</td>\n",
              "      <td>80</td>\n",
              "      <td>2004</td>\n",
              "      <td>82.0</td>\n",
              "      <td>80</td>\n",
              "      <td>white chicks</td>\n",
              "      <td>False</td>\n",
              "      <td>movie</td>\n",
              "      <td>False</td>\n",
              "      <td>109</td>\n",
              "      <td>comedy,crime</td>\n",
              "      <td>5.9</td>\n",
              "      <td>179807</td>\n",
              "      <td>NaN</td>\n",
              "      <td>NaN</td>\n",
              "      <td>marlon wayans,shawn wayans,busy philipps,maitl...</td>\n",
              "      <td>keenen ivory wayans</td>\n",
              "      <td>keenen ivory wayans,shawn wayans,marlon wayans...</td>\n",
              "      <td>71.387905</td>\n",
              "    </tr>\n",
              "    <tr>\n",
              "      <th>1</th>\n",
              "      <td>lucky number slevin</td>\n",
              "      <td>r</td>\n",
              "      <td>100</td>\n",
              "      <td>2006</td>\n",
              "      <td>NaN</td>\n",
              "      <td>82</td>\n",
              "      <td>lucky number slevin</td>\n",
              "      <td>True</td>\n",
              "      <td>movie</td>\n",
              "      <td>False</td>\n",
              "      <td>110</td>\n",
              "      <td>crime,drama,thriller</td>\n",
              "      <td>7.7</td>\n",
              "      <td>333426</td>\n",
              "      <td>NaN</td>\n",
              "      <td>NaN</td>\n",
              "      <td>josh hartnett,morgan freeman,lucy liu,michael ...</td>\n",
              "      <td>paul mcguigan</td>\n",
              "      <td>jason smilovic</td>\n",
              "      <td>97.922280</td>\n",
              "    </tr>\n",
              "    <tr>\n",
              "      <th>2</th>\n",
              "      <td>grey's anatomy</td>\n",
              "      <td>tv-14</td>\n",
              "      <td>90</td>\n",
              "      <td>2016</td>\n",
              "      <td>98.0</td>\n",
              "      <td>80</td>\n",
              "      <td>grey's anatomy</td>\n",
              "      <td>False</td>\n",
              "      <td>unknown</td>\n",
              "      <td>True</td>\n",
              "      <td>NaN</td>\n",
              "      <td>unknown</td>\n",
              "      <td>7.2</td>\n",
              "      <td>791</td>\n",
              "      <td>NaN</td>\n",
              "      <td>NaN</td>\n",
              "      <td>unknown</td>\n",
              "      <td>unknown</td>\n",
              "      <td>unknown</td>\n",
              "      <td>48.056842</td>\n",
              "    </tr>\n",
              "    <tr>\n",
              "      <th>3</th>\n",
              "      <td>prison break</td>\n",
              "      <td>tv-14</td>\n",
              "      <td>90</td>\n",
              "      <td>2008</td>\n",
              "      <td>98.0</td>\n",
              "      <td>80</td>\n",
              "      <td>prison break</td>\n",
              "      <td>False</td>\n",
              "      <td>short</td>\n",
              "      <td>False</td>\n",
              "      <td>30</td>\n",
              "      <td>comedy,short</td>\n",
              "      <td>8.0</td>\n",
              "      <td>202</td>\n",
              "      <td>NaN</td>\n",
              "      <td>NaN</td>\n",
              "      <td>chad villella,matt bettinelli-olpin,rob polons...</td>\n",
              "      <td>matt bettinelli-olpin</td>\n",
              "      <td>matt bettinelli-olpin,jonah goldstein,rob polo...</td>\n",
              "      <td>42.505648</td>\n",
              "    </tr>\n",
              "    <tr>\n",
              "      <th>4</th>\n",
              "      <td>how i met your mother</td>\n",
              "      <td>tv-pg</td>\n",
              "      <td>70</td>\n",
              "      <td>2014</td>\n",
              "      <td>94.0</td>\n",
              "      <td>80</td>\n",
              "      <td>how i met your mother</td>\n",
              "      <td>False</td>\n",
              "      <td>tvepisode</td>\n",
              "      <td>False</td>\n",
              "      <td>43</td>\n",
              "      <td>talk-show</td>\n",
              "      <td>8.6</td>\n",
              "      <td>69</td>\n",
              "      <td>20</td>\n",
              "      <td>2</td>\n",
              "      <td>josh radnor,cobie smulders,alyson hannigan,nei...</td>\n",
              "      <td>unknown</td>\n",
              "      <td>unknown</td>\n",
              "      <td>36.537059</td>\n",
              "    </tr>\n",
              "  </tbody>\n",
              "</table>\n",
              "</div>"
            ],
            "text/plain": [
              "                   title rating  ratingDescription  release year  \\\n",
              "0           white chicks  pg-13                 80          2004   \n",
              "1    lucky number slevin      r                100          2006   \n",
              "2         grey's anatomy  tv-14                 90          2016   \n",
              "3           prison break  tv-14                 90          2008   \n",
              "4  how i met your mother  tv-pg                 70          2014   \n",
              "\n",
              "   user rating score  user rating size       title_normalized  is_top_1000  \\\n",
              "0               82.0                80           white chicks        False   \n",
              "1                NaN                82    lucky number slevin         True   \n",
              "2               98.0                80         grey's anatomy        False   \n",
              "3               98.0                80           prison break        False   \n",
              "4               94.0                80  how i met your mother        False   \n",
              "\n",
              "   titleType  isAdult runtimeMinutes                genres  averageRating  \\\n",
              "0      movie    False            109          comedy,crime            5.9   \n",
              "1      movie    False            110  crime,drama,thriller            7.7   \n",
              "2    unknown     True            NaN               unknown            7.2   \n",
              "3      short    False             30          comedy,short            8.0   \n",
              "4  tvepisode    False             43             talk-show            8.6   \n",
              "\n",
              "   numVotes seasonNumber episodeNumber  \\\n",
              "0    179807          NaN           NaN   \n",
              "1    333426          NaN           NaN   \n",
              "2       791          NaN           NaN   \n",
              "3       202          NaN           NaN   \n",
              "4        69           20             2   \n",
              "\n",
              "                                         actors_list        directors_names  \\\n",
              "0  marlon wayans,shawn wayans,busy philipps,maitl...    keenen ivory wayans   \n",
              "1  josh hartnett,morgan freeman,lucy liu,michael ...          paul mcguigan   \n",
              "2                                            unknown                unknown   \n",
              "3  chad villella,matt bettinelli-olpin,rob polons...  matt bettinelli-olpin   \n",
              "4  josh radnor,cobie smulders,alyson hannigan,nei...                unknown   \n",
              "\n",
              "                                       writers_names  success_score  \n",
              "0  keenen ivory wayans,shawn wayans,marlon wayans...      71.387905  \n",
              "1                                     jason smilovic      97.922280  \n",
              "2                                            unknown      48.056842  \n",
              "3  matt bettinelli-olpin,jonah goldstein,rob polo...      42.505648  \n",
              "4                                            unknown      36.537059  "
            ]
          },
          "execution_count": 112,
          "metadata": {},
          "output_type": "execute_result"
        }
      ],
      "source": [
        "unique = unique.reset_index(drop=True)\n",
        "unique.head()\n"
      ]
    },
    {
      "cell_type": "code",
      "execution_count": 113,
      "metadata": {},
      "outputs": [
        {
          "name": "stdout",
          "output_type": "stream",
          "text": [
            "<class 'pandas.core.frame.DataFrame'>\n",
            "RangeIndex: 619 entries, 0 to 618\n",
            "Data columns (total 20 columns):\n",
            " #   Column             Non-Null Count  Dtype  \n",
            "---  ------             --------------  -----  \n",
            " 0   title              619 non-null    object \n",
            " 1   rating             619 non-null    object \n",
            " 2   ratingDescription  619 non-null    int64  \n",
            " 3   release year       619 non-null    int64  \n",
            " 4   user rating score  332 non-null    float64\n",
            " 5   user rating size   619 non-null    int64  \n",
            " 6   title_normalized   619 non-null    object \n",
            " 7   is_top_1000        619 non-null    bool   \n",
            " 8   titleType          619 non-null    object \n",
            " 9   isAdult            619 non-null    bool   \n",
            " 10  runtimeMinutes     429 non-null    object \n",
            " 11  genres             619 non-null    object \n",
            " 12  averageRating      619 non-null    float64\n",
            " 13  numVotes           619 non-null    int64  \n",
            " 14  seasonNumber       91 non-null     object \n",
            " 15  episodeNumber      91 non-null     object \n",
            " 16  actors_list        619 non-null    object \n",
            " 17  directors_names    619 non-null    object \n",
            " 18  writers_names      619 non-null    object \n",
            " 19  success_score      619 non-null    float64\n",
            "dtypes: bool(2), float64(3), int64(4), object(11)\n",
            "memory usage: 88.4+ KB\n"
          ]
        }
      ],
      "source": [
        "unique.info()"
      ]
    },
    {
      "cell_type": "code",
      "execution_count": 114,
      "metadata": {},
      "outputs": [],
      "source": [
        "df = unique.copy()"
      ]
    },
    {
      "cell_type": "markdown",
      "metadata": {
        "id": "5K45orMVgn0S"
      },
      "source": [
        "#### How many rating groups are represented in the data?"
      ]
    },
    {
      "cell_type": "code",
      "execution_count": 115,
      "metadata": {},
      "outputs": [
        {
          "name": "stdout",
          "output_type": "stream",
          "text": [
            "Number of rating groups represented in the data: 13\n",
            "Unique rating groups:\n",
            "['PG-13' 'R' 'TV-14' 'TV-PG' 'TV-MA' 'TV-Y' 'NR' 'TV-Y7-FV' 'UR' 'PG'\n",
            " 'TV-G' 'G' 'TV-Y7']\n"
          ]
        }
      ],
      "source": [
        "rating_groups_count = data_no_dublicates['rating'].nunique()\n",
        "\n",
        "print(f\"Number of rating groups represented in the data: {rating_groups_count}\")\n",
        "\n",
        "# Optional: Display the unique rating groups\n",
        "print(\"Unique rating groups:\")\n",
        "print(data_no_dublicates['rating'].unique())"
      ]
    },
    {
      "cell_type": "code",
      "execution_count": 119,
      "metadata": {},
      "outputs": [
        {
          "data": {
            "image/png": "[encoded data removed]",
            "text/plain": [
              "<Figure size 1000x400 with 1 Axes>"
            ]
          },
          "metadata": {},
          "output_type": "display_data"
        }
      ],
      "source": [
        "rating_counts = data_no_dublicates['rating'].value_counts().reset_index()\n",
        "rating_counts.columns = ['rating', 'count']\n",
        "plt.figure(figsize=(10, 4))\n",
        "sns.barplot(data=rating_counts, x='rating', y='count', hue='rating', palette='viridis', dodge=False, legend=False)\n",
        "plt.title('Shows by Rating Group')\n",
        "plt.xticks(rotation=45)\n",
        "plt.show()"
      ]
    },
    {
      "cell_type": "markdown",
      "metadata": {},
      "source": [
        "There are only 13 ratings. it makes sense to group the data by rating and see how the ratinglevel will be written for them."
      ]
    },
    {
      "cell_type": "code",
      "execution_count": 61,
      "metadata": {},
      "outputs": [
        {
          "data": {
            "text/html": [
              "<div>\n",
              "<style scoped>\n",
              "    .dataframe tbody tr th:only-of-type {\n",
              "        vertical-align: middle;\n",
              "    }\n",
              "\n",
              "    .dataframe tbody tr th {\n",
              "        vertical-align: top;\n",
              "    }\n",
              "\n",
              "    .dataframe thead th {\n",
              "        text-align: right;\n",
              "    }\n",
              "</style>\n",
              "<table border=\"1\" class=\"dataframe\">\n",
              "  <thead>\n",
              "    <tr style=\"text-align: right;\">\n",
              "      <th></th>\n",
              "      <th>title</th>\n",
              "      <th>rating</th>\n",
              "      <th>ratingDescription</th>\n",
              "      <th>release year</th>\n",
              "      <th>user rating score</th>\n",
              "      <th>user rating size</th>\n",
              "      <th>title_normalized</th>\n",
              "      <th>is_top_1000</th>\n",
              "    </tr>\n",
              "  </thead>\n",
              "  <tbody>\n",
              "    <tr>\n",
              "      <th>1</th>\n",
              "      <td>Lucky Number Slevin</td>\n",
              "      <td>R</td>\n",
              "      <td>100</td>\n",
              "      <td>2006</td>\n",
              "      <td>NaN</td>\n",
              "      <td>82</td>\n",
              "      <td>lucky number slevin</td>\n",
              "      <td>True</td>\n",
              "    </tr>\n",
              "    <tr>\n",
              "      <th>14</th>\n",
              "      <td>The Hunter</td>\n",
              "      <td>R</td>\n",
              "      <td>100</td>\n",
              "      <td>2011</td>\n",
              "      <td>NaN</td>\n",
              "      <td>82</td>\n",
              "      <td>the hunter</td>\n",
              "      <td>False</td>\n",
              "    </tr>\n",
              "    <tr>\n",
              "      <th>35</th>\n",
              "      <td>Hyena Road</td>\n",
              "      <td>R</td>\n",
              "      <td>100</td>\n",
              "      <td>2015</td>\n",
              "      <td>NaN</td>\n",
              "      <td>82</td>\n",
              "      <td>hyena road</td>\n",
              "      <td>False</td>\n",
              "    </tr>\n",
              "    <tr>\n",
              "      <th>87</th>\n",
              "      <td>Meet the Blacks</td>\n",
              "      <td>R</td>\n",
              "      <td>100</td>\n",
              "      <td>2016</td>\n",
              "      <td>79.0</td>\n",
              "      <td>80</td>\n",
              "      <td>meet the blacks</td>\n",
              "      <td>False</td>\n",
              "    </tr>\n",
              "    <tr>\n",
              "      <th>90</th>\n",
              "      <td>Sausage Party</td>\n",
              "      <td>R</td>\n",
              "      <td>100</td>\n",
              "      <td>2016</td>\n",
              "      <td>91.0</td>\n",
              "      <td>80</td>\n",
              "      <td>sausage party</td>\n",
              "      <td>False</td>\n",
              "    </tr>\n",
              "  </tbody>\n",
              "</table>\n",
              "</div>"
            ],
            "text/plain": [
              "                  title rating  ratingDescription  release year  \\\n",
              "1   Lucky Number Slevin      R                100          2006   \n",
              "14           The Hunter      R                100          2011   \n",
              "35           Hyena Road      R                100          2015   \n",
              "87      Meet the Blacks      R                100          2016   \n",
              "90        Sausage Party      R                100          2016   \n",
              "\n",
              "    user rating score  user rating size     title_normalized  is_top_1000  \n",
              "1                 NaN                82  lucky number slevin         True  \n",
              "14                NaN                82           the hunter        False  \n",
              "35                NaN                82           hyena road        False  \n",
              "87               79.0                80      meet the blacks        False  \n",
              "90               91.0                80        sausage party        False  "
            ]
          },
          "execution_count": 61,
          "metadata": {},
          "output_type": "execute_result"
        }
      ],
      "source": [
        "r_data = data_no_dublicates[data_no_dublicates['rating'] == 'R']\n",
        "r_data.head()"
      ]
    },
    {
      "cell_type": "markdown",
      "metadata": {},
      "source": [
        "#### How do the rating groups differ from each other?"
      ]
    },
    {
      "cell_type": "markdown",
      "metadata": {},
      "source": [
        "**With TV prefix - TV programs, the rest - films.**\n",
        "\n",
        "PG (Parental Guidance Suggested): Some moments unsuitable for children are allowed. Parents are advised to watch.\n",
        "\n",
        "G (General Audiences): For all ages. No content that could offend or frighten children.\n",
        "\n",
        "R (Restricted): Under 17 only with a parent or adult guardian. Includes mature content: violence, sex, profanity.\n",
        "\n",
        "PG-13 (Parents Strongly Cautioned): For viewers over 13. May contain mild violence, strong language or explicit scenes.\n",
        "\n",
        "NR (Not Rated) / UR (Unrated): The film was not rated by the MPAA or was released without a rating (for example, art house or director's cut).\n",
        "\n",
        "TV-14: For viewers 14 and older. Allowed crude humor, sexual innuendo, intense violence.\n",
        "\n",
        "TV-MA: For adults only (17+). Explicit sex, violence, profanity (like R or NC-17 in movies).\n",
        "\n",
        "TV-Y: For young children (2-6 years). Safe content.\n",
        "\n",
        "TV-G: For all ages (like G).\n",
        "\n",
        "TV-PG: Parental guidance recommended. May contain mild humor with innuendo or moderate violence.\n",
        "\n",
        "TV-Y: For young children (2-6 years). Safe content.\n",
        "\n",
        "TV-Y7: For children 7 years and older. May contain mild fantasy conflicts.\n",
        "\n",
        "TV-Y7-FV: Version marked \"Fantasy Violence\"."
      ]
    },
    {
      "cell_type": "markdown",
      "metadata": {},
      "source": [
        "Can think about merging the categories.\n",
        "At the same time, knowing this decoding, we can delete the ratingLevel column, since it contains similar information, but too unstructured."
      ]
    },
    {
      "cell_type": "code",
      "execution_count": 21,
      "metadata": {},
      "outputs": [
        {
          "name": "stdout",
          "output_type": "stream",
          "text": [
            "<class 'pandas.core.frame.DataFrame'>\n",
            "Index: 496 entries, 0 to 998\n",
            "Data columns (total 6 columns):\n",
            " #   Column             Non-Null Count  Dtype  \n",
            "---  ------             --------------  -----  \n",
            " 0   title              496 non-null    object \n",
            " 1   rating             496 non-null    object \n",
            " 2   ratingDescription  496 non-null    int64  \n",
            " 3   release year       496 non-null    int64  \n",
            " 4   user rating score  254 non-null    float64\n",
            " 5   user rating size   496 non-null    int64  \n",
            "dtypes: float64(1), int64(3), object(2)\n",
            "memory usage: 27.1+ KB\n"
          ]
        }
      ],
      "source": [
        "data_no_dublicates = data_no_dublicates.drop('ratingLevel', axis=1)\n",
        "data_no_dublicates.info()"
      ]
    },
    {
      "cell_type": "code",
      "execution_count": 22,
      "metadata": {},
      "outputs": [],
      "source": [
        "data_no_dublicates_raiting = data_no_dublicates[['ratingDescription', 'user rating score', 'user rating size']].copy()"
      ]
    },
    {
      "cell_type": "code",
      "execution_count": 23,
      "metadata": {},
      "outputs": [
        {
          "data": {
            "text/html": [
              "<div>\n",
              "<style scoped>\n",
              "    .dataframe tbody tr th:only-of-type {\n",
              "        vertical-align: middle;\n",
              "    }\n",
              "\n",
              "    .dataframe tbody tr th {\n",
              "        vertical-align: top;\n",
              "    }\n",
              "\n",
              "    .dataframe thead th {\n",
              "        text-align: right;\n",
              "    }\n",
              "</style>\n",
              "<table border=\"1\" class=\"dataframe\">\n",
              "  <thead>\n",
              "    <tr style=\"text-align: right;\">\n",
              "      <th></th>\n",
              "      <th>ratingDescription</th>\n",
              "      <th>user rating score</th>\n",
              "      <th>user rating size</th>\n",
              "    </tr>\n",
              "  </thead>\n",
              "  <tbody>\n",
              "    <tr>\n",
              "      <th>0</th>\n",
              "      <td>80</td>\n",
              "      <td>82.0</td>\n",
              "      <td>80</td>\n",
              "    </tr>\n",
              "    <tr>\n",
              "      <th>1</th>\n",
              "      <td>100</td>\n",
              "      <td>NaN</td>\n",
              "      <td>82</td>\n",
              "    </tr>\n",
              "    <tr>\n",
              "      <th>2</th>\n",
              "      <td>90</td>\n",
              "      <td>98.0</td>\n",
              "      <td>80</td>\n",
              "    </tr>\n",
              "    <tr>\n",
              "      <th>3</th>\n",
              "      <td>90</td>\n",
              "      <td>98.0</td>\n",
              "      <td>80</td>\n",
              "    </tr>\n",
              "    <tr>\n",
              "      <th>4</th>\n",
              "      <td>70</td>\n",
              "      <td>94.0</td>\n",
              "      <td>80</td>\n",
              "    </tr>\n",
              "  </tbody>\n",
              "</table>\n",
              "</div>"
            ],
            "text/plain": [
              "   ratingDescription  user rating score  user rating size\n",
              "0                 80               82.0                80\n",
              "1                100                NaN                82\n",
              "2                 90               98.0                80\n",
              "3                 90               98.0                80\n",
              "4                 70               94.0                80"
            ]
          },
          "execution_count": 23,
          "metadata": {},
          "output_type": "execute_result"
        }
      ],
      "source": [
        "data_no_dublicates_raiting.head()"
      ]
    },
    {
      "cell_type": "code",
      "execution_count": 24,
      "metadata": {},
      "outputs": [
        {
          "name": "stdout",
          "output_type": "stream",
          "text": [
            "Frequency of values ​​in column 'user_rating_size':\n",
            "user rating size\n",
            "80    254\n",
            "82    240\n",
            "81      2\n",
            "Name: count, dtype: int64\n"
          ]
        }
      ],
      "source": [
        "value_counts = data_no_dublicates_raiting['user rating size'].value_counts()\n",
        "print(\"Frequency of values ​​in column 'user_rating_size':\")\n",
        "print(value_counts)"
      ]
    },
    {
      "cell_type": "markdown",
      "metadata": {
        "id": "EvQXQnogU8M0"
      },
      "source": [
        "#### What ratings do users give more frequently?\n",
        "\n",
        "- Create a histogram of the ratings.\n",
        "- Why are these ratings given most often?"
      ]
    },
    {
      "cell_type": "code",
      "execution_count": 25,
      "metadata": {
        "id": "uZ7wT-jyU5YC"
      },
      "outputs": [
        {
          "data": {
            "image/png": "[encoded data removed]",
            "text/plain": [
              "<Figure size 1000x600 with 1 Axes>"
            ]
          },
          "metadata": {},
          "output_type": "display_data"
        },
        {
          "name": "stdout",
          "output_type": "stream",
          "text": [
            "Most frequent user ratings:\n",
            "user rating score\n",
            "98.0    12\n",
            "97.0    12\n",
            "96.0    12\n",
            "95.0    11\n",
            "91.0    11\n",
            "Name: count, dtype: int64\n"
          ]
        }
      ],
      "source": [
        "# Create histogram of user ratings\n",
        "plt.figure(figsize=(10, 6))\n",
        "sns.histplot(data=data_no_dublicates, x='user rating score', bins=20, kde=True)\n",
        "plt.title('Distribution of User Ratings')\n",
        "plt.xlabel('User Rating Score')\n",
        "plt.ylabel('Frequency')\n",
        "plt.show()\n",
        "\n",
        "# Calculate the most frequent ratings\n",
        "most_frequent = data_no_dublicates['user rating score'].value_counts().head(5)\n",
        "print(\"Most frequent user ratings:\")\n",
        "print(most_frequent)"
      ]
    },
    {
      "cell_type": "markdown",
      "metadata": {
        "id": "hctW4a6lW3Yl"
      },
      "source": [
        "#### Display the Main Information About User Ratings\n",
        "- What are the mean, standard deviation, minimum, maximum, and median?\n",
        "- Do the median and mean differ?\n",
        "- Can these characteristics differ significantly? Why?"
      ]
    },
    {
      "cell_type": "code",
      "execution_count": 26,
      "metadata": {
        "id": "duGOR-wEnMS7"
      },
      "outputs": [
        {
          "name": "stdout",
          "output_type": "stream",
          "text": [
            "User Rating Statistics:\n",
            "Mean: 81.32\n",
            "Median: 83.00\n",
            "Standard Deviation: 12.75\n",
            "Minimum: 55.00\n",
            "Maximum: 99.00\n",
            "\n",
            "Difference between mean and median: 1.68\n",
            "\n",
            "The mean and median are relatively close, suggesting a symmetric distribution\n"
          ]
        }
      ],
      "source": [
        "rating_stats = data_no_dublicates['user rating score'].describe()\n",
        "rating_stats['median'] = data_no_dublicates['user rating score'].median()\n",
        "\n",
        "print(\"User Rating Statistics:\")\n",
        "print(f\"Mean: {rating_stats['mean']:.2f}\")\n",
        "print(f\"Median: {rating_stats['median']:.2f}\")\n",
        "print(f\"Standard Deviation: {rating_stats['std']:.2f}\")\n",
        "print(f\"Minimum: {rating_stats['min']:.2f}\")\n",
        "print(f\"Maximum: {rating_stats['max']:.2f}\")\n",
        "\n",
        "mean_median_diff = abs(rating_stats['mean'] - rating_stats['median'])\n",
        "print(f\"\\nDifference between mean and median: {mean_median_diff:.2f}\")\n",
        "\n",
        "if mean_median_diff > 5:\n",
        "    print(\"\\nThe mean and median differ significantly, suggesting:\")\n",
        "    if rating_stats['mean'] > rating_stats['median']:\n",
        "        print(\"- Right-skewed distribution (few extremely high ratings pulling up the mean)\")\n",
        "    else:\n",
        "        print(\"- Left-skewed distribution (few extremely low ratings pulling down the mean)\")\n",
        "else:\n",
        "    print(\"\\nThe mean and median are relatively close, suggesting a symmetric distribution\")"
      ]
    },
    {
      "cell_type": "markdown",
      "metadata": {
        "id": "o-R-GlguhFVj"
      },
      "source": [
        "#### In which years were the shows in the dataset launched?"
      ]
    },
    {
      "cell_type": "code",
      "execution_count": 27,
      "metadata": {
        "id": "4s_pPeOthRMd"
      },
      "outputs": [
        {
          "name": "stdout",
          "output_type": "stream",
          "text": [
            "Launch Year Statistics:\n",
            "Earliest: 1940\n",
            "Latest: 2017\n",
            "Mean: 2010.9\n",
            "Median: 2014.0\n"
          ]
        },
        {
          "data": {
            "image/png": "[encoded data removed]",
            "text/plain": [
              "<Figure size 1200x600 with 1 Axes>"
            ]
          },
          "metadata": {},
          "output_type": "display_data"
        },
        {
          "name": "stdout",
          "output_type": "stream",
          "text": [
            "\n",
            "Top 5 Most Common Launch Years:\n",
            "release year\n",
            "2016    145\n",
            "2015     60\n",
            "2017     36\n",
            "2014     34\n",
            "2013     33\n",
            "Name: count, dtype: int64\n"
          ]
        }
      ],
      "source": [
        "if 'release_date' in data_no_dublicates.columns:\n",
        "    data_no_dublicates['release_date'] = pd.to_datetime(data_no_dublicates['release_date'], errors='coerce')\n",
        "    data_no_dublicates['release_year_from_date'] = data_no_dublicates['release_date'].dt.year\n",
        "\n",
        "year_col = 'release year' if 'release year' in data_no_dublicates.columns else 'release_year_from_date'\n",
        "\n",
        "year_stats = data_no_dublicates[year_col].describe()\n",
        "print(\"Launch Year Statistics:\")\n",
        "print(f\"Earliest: {int(year_stats['min'])}\")\n",
        "print(f\"Latest: {int(year_stats['max'])}\")\n",
        "print(f\"Mean: {year_stats['mean']:.1f}\")\n",
        "print(f\"Median: {data_no_dublicates[year_col].median():.1f}\")\n",
        "\n",
        "plt.figure(figsize=(12, 6))\n",
        "data_no_dublicates[year_col].value_counts().sort_index().plot(kind='bar')\n",
        "plt.title('Number of Shows Launched by Year')\n",
        "plt.xlabel('Release Year')\n",
        "plt.ylabel('Count')\n",
        "plt.xticks(rotation=45)\n",
        "plt.tight_layout()\n",
        "plt.show()\n",
        "\n",
        "print(\"\\nTop 5 Most Common Launch Years:\")\n",
        "print(data_no_dublicates[year_col].value_counts().head(5))"
      ]
    },
    {
      "cell_type": "markdown",
      "metadata": {
        "id": "OogBeNIShwr7"
      },
      "source": [
        "#### Create a Chart Showing the Distribution of the Number of Shows Launched by Year\n",
        "\n",
        "- Is there growth observed?\n",
        "- Are there any outliers?\n",
        "- What do the outliers represent?\n",
        "- What might have caused them?"
      ]
    },
    {
      "cell_type": "code",
      "execution_count": 29,
      "metadata": {
        "id": "ecreMlHXigV6"
      },
      "outputs": [
        {
          "data": {
            "image/png": "[encoded data removed]",
            "text/plain": [
              "<Figure size 1400x700 with 1 Axes>"
            ]
          },
          "metadata": {},
          "output_type": "display_data"
        },
        {
          "name": "stdout",
          "output_type": "stream",
          "text": [
            "\n",
            "Potential Outlier Years:\n",
            "    year  count\n",
            "29  2012     27\n",
            "30  2013     33\n",
            "31  2014     34\n",
            "32  2015     60\n",
            "33  2016    145\n",
            "34  2017     36\n",
            "\n",
            "Sample shows from outlier years:\n",
            "\n",
            "2012: The Office (U.S.), Gossip Girl, 30 Rock\n",
            "\n",
            "2013: Breaking Bad, Masha and the Bear, Nymphomaniac: Volume 1\n",
            "\n",
            "2014: How I Met Your Mother, Sex, Love and Therapy, Mad Men\n",
            "\n",
            "2015: The Walking Dead, Arrow, OperaÌ¤Ìµes Especiais\n",
            "\n",
            "2016: Grey's Anatomy, Supernatural, Pretty Little Liars\n",
            "\n",
            "2017: The Vampire Diaries, Marvel's Iron Fist, Santa Clarita Diet\n"
          ]
        }
      ],
      "source": [
        "year_col = 'release year' if 'release year' in data_no_dublicates.columns else 'release_year_from_date'\n",
        "shows_by_year = data_no_dublicates[year_col].value_counts().sort_index().reset_index()\n",
        "shows_by_year.columns = ['year', 'count']\n",
        "\n",
        "plt.figure(figsize=(14, 7))\n",
        "sns.lineplot(data=shows_by_year, x='year', y='count', marker='o')\n",
        "\n",
        "sns.regplot(data=shows_by_year, x='year', y='count', scatter=False,\n",
        "            line_kws={'color': 'red', 'linestyle': '--', 'alpha': 0.5})\n",
        "\n",
        "plt.title('Distribution of Shows Launched by Year', fontsize=16)\n",
        "plt.xlabel('Year', fontsize=12)\n",
        "plt.ylabel('Number of Shows', fontsize=12)\n",
        "plt.grid(True, alpha=0.3)\n",
        "plt.xticks(rotation=45)\n",
        "plt.tight_layout()\n",
        "plt.show()\n",
        "\n",
        "Q1 = shows_by_year['count'].quantile(0.25)\n",
        "Q3 = shows_by_year['count'].quantile(0.75)\n",
        "IQR = Q3 - Q1\n",
        "outlier_threshold = Q3 + 1.5 * IQR\n",
        "\n",
        "outliers = shows_by_year[shows_by_year['count'] > outlier_threshold]\n",
        "print(\"\\nPotential Outlier Years:\")\n",
        "print(outliers)\n",
        "\n",
        "if not outliers.empty:\n",
        "    print(\"\\nSample shows from outlier years:\")\n",
        "    for year in outliers['year']:\n",
        "        sample_shows = data_no_dublicates[data_no_dublicates[year_col] == year]['title'].head(3)\n",
        "        print(f\"\\n{year}: {', '.join(sample_shows)}\")"
      ]
    },
    {
      "cell_type": "markdown",
      "metadata": {
        "id": "5amxoyM7NaQL"
      },
      "source": [
        "#### Compare the Average User Rating in 2016 with the Average Rating in 2017\n",
        "- Can it be concluded that 2017 was more successful for Netflix? (\"More successful\" means users gave higher ratings on average)\n",
        "- How else can \"success\" be evaluated?\n",
        "\n"
      ]
    },
    {
      "cell_type": "code",
      "execution_count": 31,
      "metadata": {
        "id": "DIaeaVLAWgvu"
      },
      "outputs": [
        {
          "name": "stdout",
          "output_type": "stream",
          "text": [
            "Average User Rating in 2016: 84.31\n",
            "Average User Rating in 2017: 88.12\n",
            "Difference (2017 - 2016): 3.81\n",
            "\n",
            "Independent t-test results:\n",
            "t-statistic: -1.50, p-value: 0.1445\n",
            "The difference is not statistically significant\n"
          ]
        },
        {
          "data": {
            "image/png": "[encoded data removed]",
            "text/plain": [
              "<Figure size 1000x600 with 1 Axes>"
            ]
          },
          "metadata": {},
          "output_type": "display_data"
        }
      ],
      "source": [
        "ratings_2016 = data_no_dublicates[data_no_dublicates['release year'] == 2016]['user rating score'].dropna()\n",
        "ratings_2017 = data_no_dublicates[data_no_dublicates['release year'] == 2017]['user rating score'].dropna()\n",
        "\n",
        "avg_2016 = ratings_2016.mean()\n",
        "avg_2017 = ratings_2017.mean()\n",
        "\n",
        "difference = avg_2017 - avg_2016\n",
        "\n",
        "print(f\"Average User Rating in 2016: {avg_2016:.2f}\")\n",
        "print(f\"Average User Rating in 2017: {avg_2017:.2f}\")\n",
        "print(f\"Difference (2017 - 2016): {difference:.2f}\")\n",
        "\n",
        "if len(ratings_2016) > 1 and len(ratings_2017) > 1:\n",
        "    t_stat, p_value = stats.ttest_ind(ratings_2016, ratings_2017, equal_var=False)\n",
        "    print(f\"\\nIndependent t-test results:\")\n",
        "    print(f\"t-statistic: {t_stat:.2f}, p-value: {p_value:.4f}\")\n",
        "    if p_value < 0.05:\n",
        "        print(\"The difference is statistically significant (p < 0.05)\")\n",
        "    else:\n",
        "        print(\"The difference is not statistically significant\")\n",
        "else:\n",
        "    print(\"\\nInsufficient data for statistical testing\")\n",
        "\n",
        "plt.figure(figsize=(10, 6))\n",
        "sns.boxplot(data=pd.DataFrame({\n",
        "    '2016': ratings_2016,\n",
        "    '2017': ratings_2017\n",
        "}), palette=\"Set2\")\n",
        "plt.title('Comparison of User Ratings: 2016 vs 2017')\n",
        "plt.ylabel('User Rating Score')\n",
        "plt.show()"
      ]
    },
    {
      "cell_type": "markdown",
      "metadata": {
        "id": "5dG8K8M-jcYZ"
      },
      "source": [
        "#### How Can the Distribution of Users Across Rating Groups Be Shown More Clearly?\n",
        "\n",
        "Below are two charts showing the distribution of shows by rating groups. Which type of chart is more visually interpretable?\n",
        "\n",
        "Create the chart you consider more interpretable. Draw a conclusion.\n",
        "\n",
        "Are there any other, more advanced visualizations that could be used?\n"
      ]
    },
    {
      "cell_type": "code",
      "execution_count": 32,
      "metadata": {
        "id": "SR7y2Wt9uQ4i"
      },
      "outputs": [
        {
          "data": {
            "image/png": "[encoded data removed]",
            "text/plain": [
              "<Figure size 1000x500 with 1 Axes>"
            ]
          },
          "metadata": {},
          "output_type": "display_data"
        }
      ],
      "source": [
        "rating_counts = data_no_dublicates['rating'].value_counts()\n",
        "\n",
        "# Chart 1: Bar Plot\n",
        "plt.figure(figsize=(10, 5))\n",
        "rating_counts.sort_values().plot(kind='barh', color='skyblue')\n",
        "plt.title('Distribution of Shows by Rating Group (Bar Chart)')\n",
        "plt.xlabel('Number of Shows')\n",
        "plt.ylabel('Rating Group')\n",
        "plt.grid(axis='x', alpha=0.3)\n",
        "plt.show()"
      ]
    },
    {
      "cell_type": "code",
      "execution_count": 33,
      "metadata": {},
      "outputs": [
        {
          "data": {
            "image/png": "[encoded data removed]",
            "text/plain": [
              "<Figure size 800x600 with 1 Axes>"
            ]
          },
          "metadata": {},
          "output_type": "display_data"
        }
      ],
      "source": [
        "sns.set_style(\"white\")\n",
        "palette = sns.color_palette(\"viridis\")\n",
        "\n",
        "plt.figure(figsize=(8, 6))\n",
        "threshold = 3.0\n",
        "\n",
        "filtered_counts = rating_counts[rating_counts / rating_counts.sum() * 100 >= threshold]\n",
        "other = rating_counts[rating_counts / rating_counts.sum() * 100 < threshold].sum()\n",
        "if other > 0:\n",
        "    filtered_counts['Other'] = other\n",
        "\n",
        "plt.pie(\n",
        "    filtered_counts,\n",
        "    labels=filtered_counts.index,\n",
        "    colors=palette,\n",
        "    autopct='%.1f%%',\n",
        "    startangle=90,\n",
        "    pctdistance=0.8,\n",
        "    wedgeprops={'linewidth': 1, 'edgecolor': 'white'},\n",
        "    textprops={'fontsize': 10, 'weight': 'bold'}\n",
        ")\n",
        "\n",
        "plt.legend(\n",
        "    bbox_to_anchor=(1, 0.5),\n",
        "    title=\"Rating Groups\",\n",
        "    frameon=False,\n",
        "    fontsize=10\n",
        ")\n",
        "plt.title('Distribution of Shows by Rating Group', fontsize=14, pad=20)\n",
        "\n",
        "plt.tight_layout()\n",
        "plt.show()"
      ]
    },
    {
      "cell_type": "code",
      "execution_count": 34,
      "metadata": {},
      "outputs": [
        {
          "data": {
            "text/plain": [
              "Text(0.5, 1.0, 'Rating Groups (Treemap)')"
            ]
          },
          "execution_count": 34,
          "metadata": {},
          "output_type": "execute_result"
        },
        {
          "data": {
            "image/png": "[encoded data removed]",
            "text/plain": [
              "<Figure size 640x480 with 1 Axes>"
            ]
          },
          "metadata": {},
          "output_type": "display_data"
        }
      ],
      "source": [
        "squarify.plot(sizes=rating_counts, label=rating_counts.index, alpha=0.7)\n",
        "plt.axis('off')\n",
        "plt.title('Rating Groups (Treemap)')"
      ]
    },
    {
      "cell_type": "markdown",
      "metadata": {
        "id": "eWCSRMOse3fv"
      },
      "source": [
        "#### Now You Need to Choose Any of the Presented Shows and Use the Tools You Have Studied to Create a Descriptive Profile of This Show :)\n",
        "\n",
        "Analysts and Data Scientists love to compare everything, so when creating the descriptive profile, we recommend comparing the selected show with others based on certain characteristics."
      ]
    },
    {
      "cell_type": "code",
      "execution_count": 105,
      "metadata": {
        "id": "5sEouGVg4D4L"
      },
      "outputs": [
        {
          "name": "stdout",
          "output_type": "stream",
          "text": [
            "\n",
            "=== 10 THINGS I HATE ABOUT YOU PROFILE ===\n",
            "- Type: movie\n",
            "- Rating Group: pg-13\n",
            "- Release Year: True\n",
            "- User Rating: 68.0\n",
            "- Runtime in minutes: 97\n",
            "- IMDB Top 1000: False\n",
            "\n"
          ]
        }
      ],
      "source": [
        "selected_show = \"10 things i hate about you\"\n",
        "show_data = df[df['title'].str.contains(selected_show, case=False)].iloc[0]\n",
        "\n",
        "print(f\"\"\"\n",
        "=== {selected_show.upper()} PROFILE ===\n",
        "- Type: {show_data['titleType']}\n",
        "- Rating Group: {show_data['rating']}\n",
        "- Release Year: {show_data.get('release year', 'N/A')}\n",
        "- User Rating: {show_data.get('user rating score', 'N/A')}\n",
        "- Runtime in minutes: {show_data.get('runtimeMinutes', 'N/A')}\n",
        "- IMDB Top 1000: {show_data.get('is_top_1000', False)}\n",
        "\"\"\")"
      ]
    },
    {
      "cell_type": "code",
      "execution_count": 106,
      "metadata": {},
      "outputs": [
        {
          "name": "stdout",
          "output_type": "stream",
          "text": [
            "Available numeric columns: ['ratingDescription', 'user rating score', 'user rating size', 'averageRating', 'numVotes', 'success_score']\n"
          ]
        },
        {
          "data": {
            "image/png": "[encoded data removed]",
            "text/plain": [
              "<Figure size 1000x400 with 1 Axes>"
            ]
          },
          "metadata": {},
          "output_type": "display_data"
        }
      ],
      "source": [
        "numeric_cols = df.select_dtypes(include=['int64', 'float64']).columns.tolist()\n",
        "print(f\"Available numeric columns: {numeric_cols}\")\n",
        "\n",
        "if 'user rating score' in numeric_cols:\n",
        "    plt.figure(figsize=(10, 4))\n",
        "    sns.kdeplot(df['user rating score'], fill=True, label='All Shows')\n",
        "    plt.axvline(show_data['user rating score'], color='red', linestyle='--', label=selected_show)\n",
        "    plt.title(f'User Rating Distribution: {selected_show} vs All Shows')\n",
        "    plt.legend()"
      ]
    },
    {
      "cell_type": "code",
      "execution_count": 107,
      "metadata": {},
      "outputs": [
        {
          "data": {
            "image/png": "[encoded data removed]",
            "text/plain": [
              "<Figure size 1000x400 with 1 Axes>"
            ]
          },
          "metadata": {},
          "output_type": "display_data"
        }
      ],
      "source": [
        "plt.figure(figsize=(10, 4))\n",
        "sns.boxplot(x='user rating score', data=df, color='lightgray')\n",
        "plt.scatter(x=show_data['user rating score'], y=0, color='red', s=100, label=selected_show)\n",
        "plt.title(f'User Rating: {selected_show} vs All Shows')\n",
        "plt.legend()\n",
        "plt.show()"
      ]
    },
    {
      "cell_type": "code",
      "execution_count": 108,
      "metadata": {},
      "outputs": [
        {
          "data": {
            "image/png": "[encoded data removed]",
            "text/plain": [
              "<Figure size 1000x400 with 1 Axes>"
            ]
          },
          "metadata": {},
          "output_type": "display_data"
        }
      ],
      "source": [
        "plt.figure(figsize=(10, 4))\n",
        "tv_pg13_shows = df[df['rating'] == 'pg-13']\n",
        "sns.kdeplot(tv_pg13_shows['user rating score'], fill=True, label='All pg-13 Shows')\n",
        "plt.axvline(show_data['user rating score'], color='red', linestyle='--', label=selected_show)\n",
        "plt.title(f'User Rating Distribution: {selected_show} vs pg-13 Shows')\n",
        "plt.legend()\n",
        "plt.show()"
      ]
    },
    {
      "cell_type": "code",
      "execution_count": 109,
      "metadata": {},
      "outputs": [
        {
          "data": {
            "text/plain": [
              "<matplotlib.legend.Legend at 0x1707ca280>"
            ]
          },
          "execution_count": 109,
          "metadata": {},
          "output_type": "execute_result"
        },
        {
          "data": {
            "image/png": "[encoded data removed]",
            "text/plain": [
              "<Figure size 1000x400 with 1 Axes>"
            ]
          },
          "metadata": {},
          "output_type": "display_data"
        }
      ],
      "source": [
        "plt.figure(figsize=(10, 4))\n",
        "sns.histplot(df['release year'], bins=30, kde=True)\n",
        "plt.axvline(show_data['release year'], color='red', linestyle='--', label=selected_show)\n",
        "plt.title(f'Release Year: {selected_show} vs Distribution')\n",
        "plt.legend()"
      ]
    },
    {
      "cell_type": "markdown",
      "metadata": {
        "id": "nUgPW81IAl8k"
      },
      "source": [
        "## Project Evaluation Criteria"
      ]
    },
    {
      "cell_type": "markdown",
      "metadata": {
        "id": "kPjYuWD_BX7C"
      },
      "source": [
        "The grade for the group project as a whole — the first of the two grades — is given on a 10-point scale based on 5 criteria. Additionally, the committee may, at its discretion, add (but not decrease) a certain number of bonus points beyond these criteria.\n",
        "\n",
        "Each of the criteria will be listed and reviewed below."
      ]
    },
    {
      "cell_type": "markdown",
      "metadata": {
        "id": "lGGI5KRrCL5r"
      },
      "source": [
        "### Criterion 1: Technical Informativeness – It is necessary to identify non-trivial dependencies and trends in the data (up to 2 points)\n",
        "\n",
        "This criterion evaluates how technically advanced you have become in identifying patterns, trends, and dependencies in the data. The more complex tools you apply during the project and the more complex and non-trivial dependencies you uncover, the higher your team's score will be for this criterion!"
      ]
    },
    {
      "cell_type": "markdown",
      "metadata": {
        "id": "GzH0e3v6DIsM"
      },
      "source": [
        "### Criterion 2: Analytical Informativeness – It is necessary to interpret the data and draw conclusions useful for the business (up to 2 points)\n",
        "\n",
        "This criterion evaluates the practical significance of your actions, the interpretation of technical tools, the ability to highlight the usefulness and importance of the conclusions from a business perspective, and the ability to align the results with the original business goals and \"sell\" what you have accomplished.\n"
      ]
    },
    {
      "cell_type": "markdown",
      "metadata": {
        "id": "dObOtg3QE9WD"
      },
      "source": [
        "### Criterion 3: Visualization – The technical execution of the charts is evaluated (up to 2 points)\n",
        "\n",
        "This criterion assesses the complexity and technicality of your visualizations. Visualizations should be clear, aesthetically pleasing, understandable, easily interpretable, and non-trivial in terms of technical execution and the conclusions they convey.\n",
        "\n",
        "*The maximum score for this criterion (**2 points**) cannot be achieved if only basic visualization libraries such as Matplotlib and Seaborn are used.*"
      ]
    },
    {
      "cell_type": "markdown",
      "metadata": {
        "id": "TNeXOCNIGMhD"
      },
      "source": [
        "### Criterion 4: Dataset Preprocessing – Data Cleaning/Replacement (up to 1 point)\n",
        "\n",
        "This criterion evaluates the completeness of all actions performed in terms of data preparation and initial dataset preprocessing.\n"
      ]
    },
    {
      "cell_type": "markdown",
      "metadata": {
        "id": "SJwGRSz4GfuS"
      },
      "source": [
        "### Criterion 5: Data Enrichment – Adding New Features/Datasets (up to 3 points)\n",
        "\n",
        "This criterion evaluates the extent to which feature engineering is used based on existing data, as well as data enrichment by supplementing the existing dataset with meaningful information from related external datasets, various external resources, and other sources. Note that related external information should not replace or substitute the original task and data in the presented dataset, but should only complement and enrich it. The correctness and depth of interaction with external resources are evaluated within this criterion!\n",
        "\n",
        "*The maximum score for this criterion (**3 points**) can only be achieved with correct and meaningful work involving at least two sources of external data (two external datasets), as well as having at least two examples of valid and meaningful application of feature engineering.*\n",
        "\n",
        "*For this criterion, **2 points** can only be achieved with correct and meaningful work involving at least one source of external data (an external dataset), as well as having at least one example of valid and meaningful application of feature engineering.*"
      ]
    }
  ],
  "metadata": {
    "colab": {
      "provenance": []
    },
    "kernelspec": {
      "display_name": "Python (myenvooo)",
      "language": "python",
      "name": "myenvooo"
    },
    "language_info": {
      "codemirror_mode": {
        "name": "ipython",
        "version": 3
      },
      "file_extension": ".py",
      "mimetype": "text/x-python",
      "name": "python",
      "nbconvert_exporter": "python",
      "pygments_lexer": "ipython3",
      "version": "3.9.21"
    }
  },
  "nbformat": 4,
  "nbformat_minor": 0
}
